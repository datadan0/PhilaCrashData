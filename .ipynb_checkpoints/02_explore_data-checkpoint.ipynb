{
 "cells": [
  {
   "cell_type": "markdown",
   "id": "c4e212f5",
   "metadata": {},
   "source": [
    "# Philadelphia Auto Crash - Exploratory Data Analysis"
   ]
  },
  {
   "cell_type": "markdown",
   "id": "6a73e86d",
   "metadata": {},
   "source": [
    "My goal here is to explore the data set and find interesting things I might want to analyze later.  This is scratchwork and won't be as interesting as later analysis workbooks."
   ]
  },
  {
   "cell_type": "code",
   "execution_count": 198,
   "id": "178ffa98",
   "metadata": {},
   "outputs": [],
   "source": [
    "import pandas as pd\n",
    "import numpy as np"
   ]
  },
  {
   "cell_type": "code",
   "execution_count": 199,
   "id": "223b1b1b",
   "metadata": {},
   "outputs": [],
   "source": [
    "df_crash = pd.read_csv('df_crash.csv',low_memory=False) # data\n",
    "df_crash_dict = pd.read_csv('crash_data_dict.csv') # data dictionary"
   ]
  },
  {
   "cell_type": "code",
   "execution_count": 200,
   "id": "62f29366",
   "metadata": {},
   "outputs": [
    {
     "data": {
      "text/html": [
       "<div>\n",
       "<style scoped>\n",
       "    .dataframe tbody tr th:only-of-type {\n",
       "        vertical-align: middle;\n",
       "    }\n",
       "\n",
       "    .dataframe tbody tr th {\n",
       "        vertical-align: top;\n",
       "    }\n",
       "\n",
       "    .dataframe thead th {\n",
       "        text-align: right;\n",
       "    }\n",
       "</style>\n",
       "<table border=\"1\" class=\"dataframe\">\n",
       "  <thead>\n",
       "    <tr style=\"text-align: right;\">\n",
       "      <th></th>\n",
       "      <th>Column Name</th>\n",
       "      <th>Short Title / Description</th>\n",
       "      <th>Type</th>\n",
       "      <th>Length</th>\n",
       "      <th>Constraints</th>\n",
       "    </tr>\n",
       "  </thead>\n",
       "  <tbody>\n",
       "    <tr>\n",
       "      <th>0</th>\n",
       "      <td>ARRIVAL_TM</td>\n",
       "      <td>Time police arrived at the scene</td>\n",
       "      <td>TEXT</td>\n",
       "      <td>4.0</td>\n",
       "      <td>HHMM</td>\n",
       "    </tr>\n",
       "    <tr>\n",
       "      <th>1</th>\n",
       "      <td>AUTOMOBILE_COUNT</td>\n",
       "      <td>Total amount of Automobiles Involved</td>\n",
       "      <td>NUMBER</td>\n",
       "      <td>2.0</td>\n",
       "      <td>NaN</td>\n",
       "    </tr>\n",
       "    <tr>\n",
       "      <th>2</th>\n",
       "      <td>BELTED_DEATH_COUNT</td>\n",
       "      <td>Total Deaths of belted occupants</td>\n",
       "      <td>NUMBER</td>\n",
       "      <td>2.0</td>\n",
       "      <td>NaN</td>\n",
       "    </tr>\n",
       "    <tr>\n",
       "      <th>3</th>\n",
       "      <td>BELTED_SUSP_SERIOUS_INJ_COUNT</td>\n",
       "      <td>Total Suspected Serious Injuries of belted occ...</td>\n",
       "      <td>NUMBER</td>\n",
       "      <td>2.0</td>\n",
       "      <td>NaN</td>\n",
       "    </tr>\n",
       "    <tr>\n",
       "      <th>4</th>\n",
       "      <td>BICYCLE_COUNT</td>\n",
       "      <td>Total amount of Bicycles involved</td>\n",
       "      <td>NUMBER</td>\n",
       "      <td>2.0</td>\n",
       "      <td>NaN</td>\n",
       "    </tr>\n",
       "  </tbody>\n",
       "</table>\n",
       "</div>"
      ],
      "text/plain": [
       "                     Column Name  \\\n",
       "0                     ARRIVAL_TM   \n",
       "1               AUTOMOBILE_COUNT   \n",
       "2             BELTED_DEATH_COUNT   \n",
       "3  BELTED_SUSP_SERIOUS_INJ_COUNT   \n",
       "4                  BICYCLE_COUNT   \n",
       "\n",
       "                           Short Title / Description    Type  Length  \\\n",
       "0                   Time police arrived at the scene    TEXT     4.0   \n",
       "1               Total amount of Automobiles Involved  NUMBER     2.0   \n",
       "2                   Total Deaths of belted occupants  NUMBER     2.0   \n",
       "3  Total Suspected Serious Injuries of belted occ...  NUMBER     2.0   \n",
       "4                  Total amount of Bicycles involved  NUMBER     2.0   \n",
       "\n",
       "  Constraints  \n",
       "0        HHMM  \n",
       "1         NaN  \n",
       "2         NaN  \n",
       "3         NaN  \n",
       "4         NaN  "
      ]
     },
     "execution_count": 200,
     "metadata": {},
     "output_type": "execute_result"
    }
   ],
   "source": [
    "df_crash_dict.head()"
   ]
  },
  {
   "cell_type": "code",
   "execution_count": 201,
   "id": "05aaaa31",
   "metadata": {},
   "outputs": [
    {
     "data": {
      "text/html": [
       "<div>\n",
       "<style scoped>\n",
       "    .dataframe tbody tr th:only-of-type {\n",
       "        vertical-align: middle;\n",
       "    }\n",
       "\n",
       "    .dataframe tbody tr th {\n",
       "        vertical-align: top;\n",
       "    }\n",
       "\n",
       "    .dataframe thead th {\n",
       "        text-align: right;\n",
       "    }\n",
       "</style>\n",
       "<table border=\"1\" class=\"dataframe\">\n",
       "  <thead>\n",
       "    <tr style=\"text-align: right;\">\n",
       "      <th></th>\n",
       "      <th>column_name</th>\n",
       "      <th>description</th>\n",
       "      <th>type</th>\n",
       "      <th>length</th>\n",
       "      <th>constraints</th>\n",
       "    </tr>\n",
       "  </thead>\n",
       "  <tbody>\n",
       "    <tr>\n",
       "      <th>0</th>\n",
       "      <td>ARRIVAL_TM</td>\n",
       "      <td>Time police arrived at the scene</td>\n",
       "      <td>TEXT</td>\n",
       "      <td>4.0</td>\n",
       "      <td>HHMM</td>\n",
       "    </tr>\n",
       "    <tr>\n",
       "      <th>1</th>\n",
       "      <td>AUTOMOBILE_COUNT</td>\n",
       "      <td>Total amount of Automobiles Involved</td>\n",
       "      <td>NUMBER</td>\n",
       "      <td>2.0</td>\n",
       "      <td>NaN</td>\n",
       "    </tr>\n",
       "    <tr>\n",
       "      <th>2</th>\n",
       "      <td>BELTED_DEATH_COUNT</td>\n",
       "      <td>Total Deaths of belted occupants</td>\n",
       "      <td>NUMBER</td>\n",
       "      <td>2.0</td>\n",
       "      <td>NaN</td>\n",
       "    </tr>\n",
       "    <tr>\n",
       "      <th>3</th>\n",
       "      <td>BELTED_SUSP_SERIOUS_INJ_COUNT</td>\n",
       "      <td>Total Suspected Serious Injuries of belted occ...</td>\n",
       "      <td>NUMBER</td>\n",
       "      <td>2.0</td>\n",
       "      <td>NaN</td>\n",
       "    </tr>\n",
       "    <tr>\n",
       "      <th>4</th>\n",
       "      <td>BICYCLE_COUNT</td>\n",
       "      <td>Total amount of Bicycles involved</td>\n",
       "      <td>NUMBER</td>\n",
       "      <td>2.0</td>\n",
       "      <td>NaN</td>\n",
       "    </tr>\n",
       "  </tbody>\n",
       "</table>\n",
       "</div>"
      ],
      "text/plain": [
       "                     column_name  \\\n",
       "0                     ARRIVAL_TM   \n",
       "1               AUTOMOBILE_COUNT   \n",
       "2             BELTED_DEATH_COUNT   \n",
       "3  BELTED_SUSP_SERIOUS_INJ_COUNT   \n",
       "4                  BICYCLE_COUNT   \n",
       "\n",
       "                                         description    type  length  \\\n",
       "0                   Time police arrived at the scene    TEXT     4.0   \n",
       "1               Total amount of Automobiles Involved  NUMBER     2.0   \n",
       "2                   Total Deaths of belted occupants  NUMBER     2.0   \n",
       "3  Total Suspected Serious Injuries of belted occ...  NUMBER     2.0   \n",
       "4                  Total amount of Bicycles involved  NUMBER     2.0   \n",
       "\n",
       "  constraints  \n",
       "0        HHMM  \n",
       "1         NaN  \n",
       "2         NaN  \n",
       "3         NaN  \n",
       "4         NaN  "
      ]
     },
     "execution_count": 201,
     "metadata": {},
     "output_type": "execute_result"
    }
   ],
   "source": [
    "#rename columns to make lowercase and remove spaces\n",
    "df_crash_dict.columns = ['column_name','description','type','length','constraints']\n",
    "df_crash_dict.head()"
   ]
  },
  {
   "cell_type": "markdown",
   "id": "29355b8c",
   "metadata": {},
   "source": [
    "#### Check sample values in df_crash"
   ]
  },
  {
   "cell_type": "code",
   "execution_count": 202,
   "id": "f2e5a100",
   "metadata": {},
   "outputs": [
    {
     "data": {
      "text/plain": [
       "CRN                               2020007793\n",
       "ARRIVAL_TM                               NaN\n",
       "AUTOMOBILE_COUNT                           1\n",
       "BELTED_DEATH_COUNT                         0\n",
       "BELTED_SUSP_SERIOUS_INJ_COUNT              0\n",
       "BICYCLE_COUNT                              0\n",
       "BICYCLE_DEATH_COUNT                        0\n",
       "BICYCLE_SUSP_SERIOUS_INJ_COUNT             0\n",
       "BUS_COUNT                                  0\n",
       "CHLDPAS_DEATH_COUNT                        0\n",
       "CHLDPAS_SUSP_SERIOUS_INJ_COUNT             0\n",
       "COMM_VEH_COUNT                             0\n",
       "CONS_ZONE_SPD_LIM                        NaN\n",
       "CRASH_MONTH                                2\n",
       "CRASH_YEAR                              2019\n",
       "DAY_OF_WEEK                                6\n",
       "DEC_LAT                              40.0798\n",
       "DEC_LONG                            -75.0267\n",
       "DISPATCH_TM                              NaN\n",
       "DRIVER_COUNT_16YR                          0\n",
       "DRIVER_COUNT_17YR                          0\n",
       "DRIVER_COUNT_18YR                          0\n",
       "DRIVER_COUNT_19YR                          0\n",
       "DRIVER_COUNT_20YR                          0\n",
       "DRIVER_COUNT_50_64YR                       1\n",
       "Name: 1, dtype: object"
      ]
     },
     "execution_count": 202,
     "metadata": {},
     "output_type": "execute_result"
    }
   ],
   "source": [
    "# check first row\n",
    "row1_dict = df_crash.iloc[1,:]\n",
    "row1_dict[:25]"
   ]
  },
  {
   "cell_type": "markdown",
   "id": "24a7e594",
   "metadata": {},
   "source": [
    "#### I don't know what the column names mean so I will pull a summary of each column into the data dictionary"
   ]
  },
  {
   "cell_type": "code",
   "execution_count": 203,
   "id": "c19d45c5",
   "metadata": {},
   "outputs": [
    {
     "data": {
      "text/plain": [
       "set()"
      ]
     },
     "execution_count": 203,
     "metadata": {},
     "output_type": "execute_result"
    }
   ],
   "source": [
    "# compare columns in data dict and data to see how they differ\n",
    "# no  extra columns in the data dictionary\n",
    "set(df_crash_dict.column_name) - set(df_crash.columns)"
   ]
  },
  {
   "cell_type": "code",
   "execution_count": 204,
   "id": "861976d0",
   "metadata": {},
   "outputs": [
    {
     "data": {
      "text/plain": [
       "{'filename'}"
      ]
     },
     "execution_count": 204,
     "metadata": {},
     "output_type": "execute_result"
    }
   ],
   "source": [
    "# the only difference is the filename field that I added to the data\n",
    "set(df_crash.columns) - set(df_crash_dict.column_name)"
   ]
  },
  {
   "cell_type": "code",
   "execution_count": 205,
   "id": "0752b5e3",
   "metadata": {},
   "outputs": [],
   "source": [
    "# add a sample value to the data dictionary so it is easier to understand\n",
    "#df_crash_dict['sample_value2'] = df_crash_dict.column_name.apply(lambda x: row1_dict[x])\n",
    "#df_crash_dict.head(50)"
   ]
  },
  {
   "cell_type": "code",
   "execution_count": 206,
   "id": "f94e8c96",
   "metadata": {},
   "outputs": [],
   "source": [
    "def get_column_summary(col):\n",
    "    # summarize values contained in column\n",
    "    # if text, then return top 3 values and concatenate with a comma\n",
    "    # if numeric, then then return mean, min, max\n",
    "    \n",
    "    s = df_crash[col]\n",
    "\n",
    "    # if object data type (text)\n",
    "    if s.dtype == 'O':\n",
    "        top3 = s.fillna('null').value_counts(dropna=False).head(3).index\n",
    "        return (', ').join(top3)\n",
    "    \n",
    "    # if numeric    \n",
    "    else:\n",
    "        mean_ = round(df_crash[col].mean(),2)\n",
    "        min_ = round(df_crash[col].min(),2)\n",
    "        max_ = round(df_crash[col].max(),2)\n",
    "        return f'''mean={mean_}, min={min_}, max={max_}'''"
   ]
  },
  {
   "cell_type": "code",
   "execution_count": 207,
   "id": "be4a7270",
   "metadata": {},
   "outputs": [],
   "source": [
    "df_crash_dict['summary'] = df_crash_dict.column_name.apply(get_column_summary)"
   ]
  },
  {
   "cell_type": "code",
   "execution_count": 208,
   "id": "de8467ce",
   "metadata": {},
   "outputs": [
    {
     "data": {
      "text/html": [
       "<div>\n",
       "<style scoped>\n",
       "    .dataframe tbody tr th:only-of-type {\n",
       "        vertical-align: middle;\n",
       "    }\n",
       "\n",
       "    .dataframe tbody tr th {\n",
       "        vertical-align: top;\n",
       "    }\n",
       "\n",
       "    .dataframe thead th {\n",
       "        text-align: right;\n",
       "    }\n",
       "</style>\n",
       "<table border=\"1\" class=\"dataframe\">\n",
       "  <thead>\n",
       "    <tr style=\"text-align: right;\">\n",
       "      <th></th>\n",
       "      <th>column_name</th>\n",
       "      <th>description</th>\n",
       "      <th>type</th>\n",
       "      <th>length</th>\n",
       "      <th>constraints</th>\n",
       "      <th>summary</th>\n",
       "    </tr>\n",
       "  </thead>\n",
       "  <tbody>\n",
       "    <tr>\n",
       "      <th>0</th>\n",
       "      <td>ARRIVAL_TM</td>\n",
       "      <td>Time police arrived at the scene</td>\n",
       "      <td>TEXT</td>\n",
       "      <td>4.0</td>\n",
       "      <td>HHMM</td>\n",
       "      <td>mean=1284.41, min=0.0, max=9999.0</td>\n",
       "    </tr>\n",
       "    <tr>\n",
       "      <th>1</th>\n",
       "      <td>AUTOMOBILE_COUNT</td>\n",
       "      <td>Total amount of Automobiles Involved</td>\n",
       "      <td>NUMBER</td>\n",
       "      <td>2.0</td>\n",
       "      <td>NaN</td>\n",
       "      <td>mean=1.05, min=0, max=10</td>\n",
       "    </tr>\n",
       "    <tr>\n",
       "      <th>2</th>\n",
       "      <td>BELTED_DEATH_COUNT</td>\n",
       "      <td>Total Deaths of belted occupants</td>\n",
       "      <td>NUMBER</td>\n",
       "      <td>2.0</td>\n",
       "      <td>NaN</td>\n",
       "      <td>mean=0.0, min=0, max=2</td>\n",
       "    </tr>\n",
       "    <tr>\n",
       "      <th>3</th>\n",
       "      <td>BELTED_SUSP_SERIOUS_INJ_COUNT</td>\n",
       "      <td>Total Suspected Serious Injuries of belted occ...</td>\n",
       "      <td>NUMBER</td>\n",
       "      <td>2.0</td>\n",
       "      <td>NaN</td>\n",
       "      <td>mean=0.01, min=0, max=3</td>\n",
       "    </tr>\n",
       "    <tr>\n",
       "      <th>4</th>\n",
       "      <td>BICYCLE_COUNT</td>\n",
       "      <td>Total amount of Bicycles involved</td>\n",
       "      <td>NUMBER</td>\n",
       "      <td>2.0</td>\n",
       "      <td>NaN</td>\n",
       "      <td>mean=0.02, min=0, max=2</td>\n",
       "    </tr>\n",
       "    <tr>\n",
       "      <th>...</th>\n",
       "      <td>...</td>\n",
       "      <td>...</td>\n",
       "      <td>...</td>\n",
       "      <td>...</td>\n",
       "      <td>...</td>\n",
       "      <td>...</td>\n",
       "    </tr>\n",
       "    <tr>\n",
       "      <th>94</th>\n",
       "      <td>WZ_LN_CLOSURE</td>\n",
       "      <td>Did Work zone have a lane closure?</td>\n",
       "      <td>TEXT</td>\n",
       "      <td>1.0</td>\n",
       "      <td>1=Y, 0 = N</td>\n",
       "      <td>null, Y, N</td>\n",
       "    </tr>\n",
       "    <tr>\n",
       "      <th>95</th>\n",
       "      <td>WZ_MOVING</td>\n",
       "      <td>Was there moving work in the zone?</td>\n",
       "      <td>TEXT</td>\n",
       "      <td>1.0</td>\n",
       "      <td>1=Y, 0 = N</td>\n",
       "      <td>null, N, Y</td>\n",
       "    </tr>\n",
       "    <tr>\n",
       "      <th>96</th>\n",
       "      <td>WZ_OTHER</td>\n",
       "      <td>Was this a special type of work zone?</td>\n",
       "      <td>TEXT</td>\n",
       "      <td>1.0</td>\n",
       "      <td>1=Y, 0 = N</td>\n",
       "      <td>null, N, Y</td>\n",
       "    </tr>\n",
       "    <tr>\n",
       "      <th>97</th>\n",
       "      <td>WZ_SHLDER_MDN</td>\n",
       "      <td>Was a median/shoulder in the zone?</td>\n",
       "      <td>TEXT</td>\n",
       "      <td>1.0</td>\n",
       "      <td>1=Y, 0 = N</td>\n",
       "      <td>null, Y, N</td>\n",
       "    </tr>\n",
       "    <tr>\n",
       "      <th>98</th>\n",
       "      <td>WZ_WORKERS_INJ_KILLED</td>\n",
       "      <td>Were any Work Zone workers injured or killed a...</td>\n",
       "      <td>TEXT</td>\n",
       "      <td>1.0</td>\n",
       "      <td>1=Y, 0 = N</td>\n",
       "      <td>null, N, Y</td>\n",
       "    </tr>\n",
       "  </tbody>\n",
       "</table>\n",
       "<p>99 rows × 6 columns</p>\n",
       "</div>"
      ],
      "text/plain": [
       "                      column_name  \\\n",
       "0                      ARRIVAL_TM   \n",
       "1                AUTOMOBILE_COUNT   \n",
       "2              BELTED_DEATH_COUNT   \n",
       "3   BELTED_SUSP_SERIOUS_INJ_COUNT   \n",
       "4                   BICYCLE_COUNT   \n",
       "..                            ...   \n",
       "94                  WZ_LN_CLOSURE   \n",
       "95                      WZ_MOVING   \n",
       "96                       WZ_OTHER   \n",
       "97                  WZ_SHLDER_MDN   \n",
       "98          WZ_WORKERS_INJ_KILLED   \n",
       "\n",
       "                                          description    type  length  \\\n",
       "0                    Time police arrived at the scene    TEXT     4.0   \n",
       "1                Total amount of Automobiles Involved  NUMBER     2.0   \n",
       "2                    Total Deaths of belted occupants  NUMBER     2.0   \n",
       "3   Total Suspected Serious Injuries of belted occ...  NUMBER     2.0   \n",
       "4                   Total amount of Bicycles involved  NUMBER     2.0   \n",
       "..                                                ...     ...     ...   \n",
       "94                 Did Work zone have a lane closure?    TEXT     1.0   \n",
       "95                 Was there moving work in the zone?    TEXT     1.0   \n",
       "96              Was this a special type of work zone?    TEXT     1.0   \n",
       "97                 Was a median/shoulder in the zone?    TEXT     1.0   \n",
       "98  Were any Work Zone workers injured or killed a...    TEXT     1.0   \n",
       "\n",
       "   constraints                            summary  \n",
       "0         HHMM  mean=1284.41, min=0.0, max=9999.0  \n",
       "1          NaN           mean=1.05, min=0, max=10  \n",
       "2          NaN             mean=0.0, min=0, max=2  \n",
       "3          NaN            mean=0.01, min=0, max=3  \n",
       "4          NaN            mean=0.02, min=0, max=2  \n",
       "..         ...                                ...  \n",
       "94  1=Y, 0 = N                         null, Y, N  \n",
       "95  1=Y, 0 = N                         null, N, Y  \n",
       "96  1=Y, 0 = N                         null, N, Y  \n",
       "97  1=Y, 0 = N                         null, Y, N  \n",
       "98  1=Y, 0 = N                         null, N, Y  \n",
       "\n",
       "[99 rows x 6 columns]"
      ]
     },
     "execution_count": 208,
     "metadata": {},
     "output_type": "execute_result"
    }
   ],
   "source": [
    "df_crash_dict"
   ]
  },
  {
   "cell_type": "code",
   "execution_count": 209,
   "id": "c2e55e42",
   "metadata": {},
   "outputs": [],
   "source": [
    "# get first row of dataframe and add it as a column to the data dictionary as a sample data crash event\n",
    "sample1 = df_crash[:2].to_dict('records')[0]\n",
    "df_crash_dict['sample1'] = df_crash_dict.column_name.map(sample1)\n",
    "\n",
    "# get last row and add it as another sample\n",
    "sample2 = df_crash[-1:].to_dict('records')[0]\n",
    "df_crash_dict['sample2'] = df_crash_dict.column_name.map(sample2)"
   ]
  },
  {
   "cell_type": "markdown",
   "id": "5f122c29",
   "metadata": {},
   "source": [
    "## Fields 0-9"
   ]
  },
  {
   "cell_type": "code",
   "execution_count": 210,
   "id": "684829ed",
   "metadata": {},
   "outputs": [
    {
     "data": {
      "text/html": [
       "<div>\n",
       "<style scoped>\n",
       "    .dataframe tbody tr th:only-of-type {\n",
       "        vertical-align: middle;\n",
       "    }\n",
       "\n",
       "    .dataframe tbody tr th {\n",
       "        vertical-align: top;\n",
       "    }\n",
       "\n",
       "    .dataframe thead th {\n",
       "        text-align: right;\n",
       "    }\n",
       "</style>\n",
       "<table border=\"1\" class=\"dataframe\">\n",
       "  <thead>\n",
       "    <tr style=\"text-align: right;\">\n",
       "      <th></th>\n",
       "      <th>column_name</th>\n",
       "      <th>description</th>\n",
       "      <th>type</th>\n",
       "      <th>length</th>\n",
       "      <th>constraints</th>\n",
       "      <th>summary</th>\n",
       "      <th>sample1</th>\n",
       "      <th>sample2</th>\n",
       "    </tr>\n",
       "  </thead>\n",
       "  <tbody>\n",
       "    <tr>\n",
       "      <th>0</th>\n",
       "      <td>ARRIVAL_TM</td>\n",
       "      <td>Time police arrived at the scene</td>\n",
       "      <td>TEXT</td>\n",
       "      <td>4.0</td>\n",
       "      <td>HHMM</td>\n",
       "      <td>mean=1284.41, min=0.0, max=9999.0</td>\n",
       "      <td>NaN</td>\n",
       "      <td>1745.0</td>\n",
       "    </tr>\n",
       "    <tr>\n",
       "      <th>1</th>\n",
       "      <td>AUTOMOBILE_COUNT</td>\n",
       "      <td>Total amount of Automobiles Involved</td>\n",
       "      <td>NUMBER</td>\n",
       "      <td>2.0</td>\n",
       "      <td>NaN</td>\n",
       "      <td>mean=1.05, min=0, max=10</td>\n",
       "      <td>2</td>\n",
       "      <td>0</td>\n",
       "    </tr>\n",
       "    <tr>\n",
       "      <th>2</th>\n",
       "      <td>BELTED_DEATH_COUNT</td>\n",
       "      <td>Total Deaths of belted occupants</td>\n",
       "      <td>NUMBER</td>\n",
       "      <td>2.0</td>\n",
       "      <td>NaN</td>\n",
       "      <td>mean=0.0, min=0, max=2</td>\n",
       "      <td>0</td>\n",
       "      <td>0</td>\n",
       "    </tr>\n",
       "    <tr>\n",
       "      <th>3</th>\n",
       "      <td>BELTED_SUSP_SERIOUS_INJ_COUNT</td>\n",
       "      <td>Total Suspected Serious Injuries of belted occ...</td>\n",
       "      <td>NUMBER</td>\n",
       "      <td>2.0</td>\n",
       "      <td>NaN</td>\n",
       "      <td>mean=0.01, min=0, max=3</td>\n",
       "      <td>0</td>\n",
       "      <td>0</td>\n",
       "    </tr>\n",
       "    <tr>\n",
       "      <th>4</th>\n",
       "      <td>BICYCLE_COUNT</td>\n",
       "      <td>Total amount of Bicycles involved</td>\n",
       "      <td>NUMBER</td>\n",
       "      <td>2.0</td>\n",
       "      <td>NaN</td>\n",
       "      <td>mean=0.02, min=0, max=2</td>\n",
       "      <td>0</td>\n",
       "      <td>0</td>\n",
       "    </tr>\n",
       "    <tr>\n",
       "      <th>5</th>\n",
       "      <td>BICYCLE_DEATH_COUNT</td>\n",
       "      <td>Total amount of Bicyclist Fatalities</td>\n",
       "      <td>NUMBER</td>\n",
       "      <td>2.0</td>\n",
       "      <td>NaN</td>\n",
       "      <td>mean=0.0, min=0, max=1</td>\n",
       "      <td>0</td>\n",
       "      <td>0</td>\n",
       "    </tr>\n",
       "    <tr>\n",
       "      <th>6</th>\n",
       "      <td>BICYCLE_SUSP_SERIOUS_INJ_COUNT</td>\n",
       "      <td>\\nTotal amount of Bicyclist Suspected Serious ...</td>\n",
       "      <td>NUMBER</td>\n",
       "      <td>2.0</td>\n",
       "      <td>NaN</td>\n",
       "      <td>mean=0.0, min=0, max=1</td>\n",
       "      <td>0</td>\n",
       "      <td>0</td>\n",
       "    </tr>\n",
       "    <tr>\n",
       "      <th>7</th>\n",
       "      <td>BUS_COUNT</td>\n",
       "      <td>Total amount of Buses involved</td>\n",
       "      <td>NUMBER</td>\n",
       "      <td>2.0</td>\n",
       "      <td>NaN</td>\n",
       "      <td>mean=0.02, min=0, max=2</td>\n",
       "      <td>0</td>\n",
       "      <td>0</td>\n",
       "    </tr>\n",
       "    <tr>\n",
       "      <th>8</th>\n",
       "      <td>CHLDPAS_DEATH_COUNT</td>\n",
       "      <td>killed in the crash\\nTotal child passengers un...</td>\n",
       "      <td>NUMBER</td>\n",
       "      <td>2.0</td>\n",
       "      <td>NaN</td>\n",
       "      <td>mean=0.0, min=0, max=1</td>\n",
       "      <td>0</td>\n",
       "      <td>0</td>\n",
       "    </tr>\n",
       "    <tr>\n",
       "      <th>9</th>\n",
       "      <td>CHLDPAS_SUSP_SERIOUS_INJ_COUNT</td>\n",
       "      <td>with suspected serious injuries\\nTotal child p...</td>\n",
       "      <td>NUMBER</td>\n",
       "      <td>2.0</td>\n",
       "      <td>NaN</td>\n",
       "      <td>mean=0.0, min=0, max=2</td>\n",
       "      <td>0</td>\n",
       "      <td>0</td>\n",
       "    </tr>\n",
       "  </tbody>\n",
       "</table>\n",
       "</div>"
      ],
      "text/plain": [
       "                      column_name  \\\n",
       "0                      ARRIVAL_TM   \n",
       "1                AUTOMOBILE_COUNT   \n",
       "2              BELTED_DEATH_COUNT   \n",
       "3   BELTED_SUSP_SERIOUS_INJ_COUNT   \n",
       "4                   BICYCLE_COUNT   \n",
       "5             BICYCLE_DEATH_COUNT   \n",
       "6  BICYCLE_SUSP_SERIOUS_INJ_COUNT   \n",
       "7                       BUS_COUNT   \n",
       "8             CHLDPAS_DEATH_COUNT   \n",
       "9  CHLDPAS_SUSP_SERIOUS_INJ_COUNT   \n",
       "\n",
       "                                         description    type  length  \\\n",
       "0                   Time police arrived at the scene    TEXT     4.0   \n",
       "1               Total amount of Automobiles Involved  NUMBER     2.0   \n",
       "2                   Total Deaths of belted occupants  NUMBER     2.0   \n",
       "3  Total Suspected Serious Injuries of belted occ...  NUMBER     2.0   \n",
       "4                  Total amount of Bicycles involved  NUMBER     2.0   \n",
       "5               Total amount of Bicyclist Fatalities  NUMBER     2.0   \n",
       "6  \\nTotal amount of Bicyclist Suspected Serious ...  NUMBER     2.0   \n",
       "7                     Total amount of Buses involved  NUMBER     2.0   \n",
       "8  killed in the crash\\nTotal child passengers un...  NUMBER     2.0   \n",
       "9  with suspected serious injuries\\nTotal child p...  NUMBER     2.0   \n",
       "\n",
       "  constraints                            summary sample1 sample2  \n",
       "0        HHMM  mean=1284.41, min=0.0, max=9999.0     NaN  1745.0  \n",
       "1         NaN           mean=1.05, min=0, max=10       2       0  \n",
       "2         NaN             mean=0.0, min=0, max=2       0       0  \n",
       "3         NaN            mean=0.01, min=0, max=3       0       0  \n",
       "4         NaN            mean=0.02, min=0, max=2       0       0  \n",
       "5         NaN             mean=0.0, min=0, max=1       0       0  \n",
       "6         NaN             mean=0.0, min=0, max=1       0       0  \n",
       "7         NaN            mean=0.02, min=0, max=2       0       0  \n",
       "8         NaN             mean=0.0, min=0, max=1       0       0  \n",
       "9         NaN             mean=0.0, min=0, max=2       0       0  "
      ]
     },
     "execution_count": 210,
     "metadata": {},
     "output_type": "execute_result"
    }
   ],
   "source": [
    "df_crash_dict[:10]"
   ]
  },
  {
   "cell_type": "code",
   "execution_count": 211,
   "id": "26b84f07",
   "metadata": {},
   "outputs": [],
   "source": [
    "# ARRIVAL_TM - no police arrival time for first event.  2nd event, police arrived at 5:45PM\n",
    "# AUTOMOBILE_COUNT - 2 cars involved in first event.  0 cars involved in the second.  \n",
    "        # Does that mean that it was a motorcycle?\n",
    "        # The max value is 10.  Would be interesting to look at the 10-car accident.\n",
    "\n",
    "# no belted deaths or belted serious injuries, no bicycles involved, no buses, no children"
   ]
  },
  {
   "cell_type": "code",
   "execution_count": 252,
   "id": "12e16654",
   "metadata": {},
   "outputs": [
    {
     "data": {
      "text/plain": [
       "NaN       0.025043\n",
       "1630.0    0.003412\n",
       "1700.0    0.002884\n",
       "1640.0    0.002844\n",
       "1730.0    0.002803\n",
       "            ...   \n",
       "533.0     0.000142\n",
       "433.0     0.000122\n",
       "544.0     0.000122\n",
       "554.0     0.000102\n",
       "546.0     0.000102\n",
       "Name: ARRIVAL_TM, Length: 1442, dtype: float64"
      ]
     },
     "execution_count": 252,
     "metadata": {},
     "output_type": "execute_result"
    }
   ],
   "source": [
    "# it looks like arrival times are often rounded to the nearest 5 minutes\n",
    "# we can't draw any conclusiosn about crash time or arrival time since we are just seeing\n",
    "        # the \"most popular minute\" that was reported in the data\n",
    "        # 4:30-5:30 will likely wind up being the most frequent crash time\n",
    "        # but looking at the individual minute is not the best way to analyze.\n",
    "\n",
    "df_crash.ARRIVAL_TM.value_counts(normalize=True,dropna=False)"
   ]
  },
  {
   "cell_type": "code",
   "execution_count": 251,
   "id": "5abda514",
   "metadata": {},
   "outputs": [
    {
     "data": {
      "text/plain": [
       "0    0.999228\n",
       "1    0.000711\n",
       "2    0.000061\n",
       "Name: BELTED_DEATH_COUNT, dtype: float64"
      ]
     },
     "execution_count": 251,
     "metadata": {},
     "output_type": "execute_result"
    }
   ],
   "source": [
    "# almost half of crashes only involve 1 car but 26% involve no cars\n",
    "# no car accidents probably involve trucks, commercial vehicles, SUVs or motorcycles.\n",
    "# I will create a \"total vehicle\" column later\n",
    "df_crash.BELTED_DEATH_COUNT.value_counts(normalize=True,dropna=False)"
   ]
  },
  {
   "cell_type": "code",
   "execution_count": 250,
   "id": "fd6734d4",
   "metadata": {},
   "outputs": [
    {
     "data": {
      "text/plain": [
       "0    0.998538\n",
       "1    0.001320\n",
       "2    0.000102\n",
       "3    0.000020\n",
       "4    0.000020\n",
       "Name: UNB_DEATH_COUNT, dtype: float64"
      ]
     },
     "execution_count": 250,
     "metadata": {},
     "output_type": "execute_result"
    }
   ],
   "source": [
    "# This is a sneak preview to a later field.  I want to compare unbelted death count and belted\n",
    "df_crash.UNB_DEATH_COUNT.value_counts(normalize=True, dropna=False)"
   ]
  },
  {
   "cell_type": "code",
   "execution_count": 253,
   "id": "beff9994",
   "metadata": {},
   "outputs": [
    {
     "data": {
      "text/plain": [
       "1.893782383419654"
      ]
     },
     "execution_count": 253,
     "metadata": {},
     "output_type": "execute_result"
    }
   ],
   "source": [
    "# There are about 90% more unbelted deaths compared to belted deaths.\n",
    "(1-0.998538) / (1-0.999228)"
   ]
  },
  {
   "cell_type": "code",
   "execution_count": 254,
   "id": "c73e75d1",
   "metadata": {},
   "outputs": [
    {
     "data": {
      "text/plain": [
       "0    0.977069\n",
       "1    0.022911\n",
       "2    0.000020\n",
       "Name: BICYCLE_COUNT, dtype: float64"
      ]
     },
     "execution_count": 254,
     "metadata": {},
     "output_type": "execute_result"
    }
   ],
   "source": [
    "# 2.3% of crashes involve 1 bicycle\n",
    "df_crash.BICYCLE_COUNT.value_counts(normalize=True,dropna=False)"
   ]
  },
  {
   "cell_type": "code",
   "execution_count": 255,
   "id": "f3f98024",
   "metadata": {},
   "outputs": [
    {
     "data": {
      "text/plain": [
       "0    48106\n",
       "1     1128\n",
       "2        1\n",
       "Name: BICYCLE_COUNT, dtype: int64"
      ]
     },
     "execution_count": 255,
     "metadata": {},
     "output_type": "execute_result"
    }
   ],
   "source": [
    "# only 1 accident involved 2 bcicyles.  I wonder if a car hit 2 cyclists at the same time.\n",
    "df_crash.BICYCLE_COUNT.value_counts(dropna=False)"
   ]
  },
  {
   "cell_type": "code",
   "execution_count": 256,
   "id": "1e35a48f",
   "metadata": {},
   "outputs": [
    {
     "data": {
      "text/plain": [
       "0    49209\n",
       "1       26\n",
       "Name: BICYCLE_DEATH_COUNT, dtype: int64"
      ]
     },
     "execution_count": 256,
     "metadata": {},
     "output_type": "execute_result"
    }
   ],
   "source": [
    "# 26 accidents involved the death of 1 cyclist\n",
    "df_crash.BICYCLE_DEATH_COUNT.value_counts(dropna=False)"
   ]
  },
  {
   "cell_type": "code",
   "execution_count": 257,
   "id": "b981b2fe",
   "metadata": {},
   "outputs": [
    {
     "data": {
      "text/plain": [
       "0    49162\n",
       "1       73\n",
       "Name: BICYCLE_SUSP_SERIOUS_INJ_COUNT, dtype: int64"
      ]
     },
     "execution_count": 257,
     "metadata": {},
     "output_type": "execute_result"
    }
   ],
   "source": [
    "# 73 accidents invovled a bicylist with a suspected serious injury\n",
    "# I was in a bike accident in 2016.  I will have to look back in the data and see if I can find it.\n",
    "df_crash.BICYCLE_SUSP_SERIOUS_INJ_COUNT.value_counts(dropna=False)"
   ]
  },
  {
   "cell_type": "code",
   "execution_count": 259,
   "id": "7e132674",
   "metadata": {},
   "outputs": [
    {
     "data": {
      "text/plain": [
       "0    0.982716\n",
       "1    0.017041\n",
       "2    0.000244\n",
       "Name: BUS_COUNT, dtype: float64"
      ]
     },
     "execution_count": 259,
     "metadata": {},
     "output_type": "execute_result"
    }
   ],
   "source": [
    "# 1.7% of accidents involved a bus\n",
    "df_crash.BUS_COUNT.value_counts(normalize=True,dropna=False)"
   ]
  },
  {
   "cell_type": "code",
   "execution_count": 260,
   "id": "bd1b7cc7",
   "metadata": {},
   "outputs": [
    {
     "data": {
      "text/plain": [
       "0    48384\n",
       "1      839\n",
       "2       12\n",
       "Name: BUS_COUNT, dtype: int64"
      ]
     },
     "execution_count": 260,
     "metadata": {},
     "output_type": "execute_result"
    }
   ],
   "source": [
    "# 12 accidents involved 2 buses\n",
    "df_crash.BUS_COUNT.value_counts(dropna=False)"
   ]
  },
  {
   "cell_type": "code",
   "execution_count": 261,
   "id": "bfa5d939",
   "metadata": {},
   "outputs": [
    {
     "data": {
      "text/plain": [
       "0    49232\n",
       "1        3\n",
       "Name: CHLDPAS_DEATH_COUNT, dtype: int64"
      ]
     },
     "execution_count": 261,
     "metadata": {},
     "output_type": "execute_result"
    }
   ],
   "source": [
    "# 3 accidents involved the death of a child.  RIP\n",
    "df_crash.CHLDPAS_DEATH_COUNT.value_counts(dropna=False)"
   ]
  },
  {
   "cell_type": "code",
   "execution_count": 262,
   "id": "c0090128",
   "metadata": {},
   "outputs": [
    {
     "data": {
      "text/plain": [
       "0    49215\n",
       "1       16\n",
       "2        4\n",
       "Name: CHLDPAS_SUSP_SERIOUS_INJ_COUNT, dtype: int64"
      ]
     },
     "execution_count": 262,
     "metadata": {},
     "output_type": "execute_result"
    }
   ],
   "source": [
    "# 20 accidents involved a child with a suspected serious injury.\n",
    "df_crash.CHLDPAS_SUSP_SERIOUS_INJ_COUNT.value_counts(dropna=False)"
   ]
  },
  {
   "cell_type": "markdown",
   "id": "544e300e",
   "metadata": {},
   "source": [
    "## Fields 10-19"
   ]
  },
  {
   "cell_type": "code",
   "execution_count": 212,
   "id": "37789fc2",
   "metadata": {},
   "outputs": [
    {
     "data": {
      "text/html": [
       "<div>\n",
       "<style scoped>\n",
       "    .dataframe tbody tr th:only-of-type {\n",
       "        vertical-align: middle;\n",
       "    }\n",
       "\n",
       "    .dataframe tbody tr th {\n",
       "        vertical-align: top;\n",
       "    }\n",
       "\n",
       "    .dataframe thead th {\n",
       "        text-align: right;\n",
       "    }\n",
       "</style>\n",
       "<table border=\"1\" class=\"dataframe\">\n",
       "  <thead>\n",
       "    <tr style=\"text-align: right;\">\n",
       "      <th></th>\n",
       "      <th>column_name</th>\n",
       "      <th>description</th>\n",
       "      <th>type</th>\n",
       "      <th>length</th>\n",
       "      <th>constraints</th>\n",
       "      <th>summary</th>\n",
       "      <th>sample1</th>\n",
       "      <th>sample2</th>\n",
       "    </tr>\n",
       "  </thead>\n",
       "  <tbody>\n",
       "    <tr>\n",
       "      <th>10</th>\n",
       "      <td>COLLISION_TYPE</td>\n",
       "      <td>Collision category that defines the crash</td>\n",
       "      <td>TEXT</td>\n",
       "      <td>1.0</td>\n",
       "      <td>See Column Code</td>\n",
       "      <td>Angle, Rear-end, Sideswipe (same dir.)</td>\n",
       "      <td>Angle</td>\n",
       "      <td>Angle</td>\n",
       "    </tr>\n",
       "    <tr>\n",
       "      <th>11</th>\n",
       "      <td>COMM_VEH_COUNT</td>\n",
       "      <td>Total Commercial vehicles involved</td>\n",
       "      <td>NUMBER</td>\n",
       "      <td>2.0</td>\n",
       "      <td>NaN</td>\n",
       "      <td>mean=0.07, min=0, max=5</td>\n",
       "      <td>0</td>\n",
       "      <td>0</td>\n",
       "    </tr>\n",
       "    <tr>\n",
       "      <th>12</th>\n",
       "      <td>CONS_ZONE_SPD_LIM</td>\n",
       "      <td>Speed limit for the Construction Zone</td>\n",
       "      <td>TEXT</td>\n",
       "      <td>2.0</td>\n",
       "      <td>NaN</td>\n",
       "      <td>mean=48.2, min=5.0, max=99.0</td>\n",
       "      <td>NaN</td>\n",
       "      <td>NaN</td>\n",
       "    </tr>\n",
       "    <tr>\n",
       "      <th>13</th>\n",
       "      <td>COUNTY</td>\n",
       "      <td>County Code Number where crash occurred</td>\n",
       "      <td>TEXT</td>\n",
       "      <td>2.0</td>\n",
       "      <td>See Column Code</td>\n",
       "      <td>PHILADELPHIA</td>\n",
       "      <td>PHILADELPHIA</td>\n",
       "      <td>PHILADELPHIA</td>\n",
       "    </tr>\n",
       "    <tr>\n",
       "      <th>14</th>\n",
       "      <td>CRASH_MONTH</td>\n",
       "      <td>Month when the crash occurred</td>\n",
       "      <td>TEXT</td>\n",
       "      <td>2.0</td>\n",
       "      <td>NaN</td>\n",
       "      <td>mean=6.57, min=1, max=12</td>\n",
       "      <td>3</td>\n",
       "      <td>9</td>\n",
       "    </tr>\n",
       "    <tr>\n",
       "      <th>15</th>\n",
       "      <td>CRASH_YEAR</td>\n",
       "      <td>Year when the crash occurred</td>\n",
       "      <td>TEXT</td>\n",
       "      <td>4.0</td>\n",
       "      <td>NaN</td>\n",
       "      <td>mean=2020.87, min=2019, max=2023</td>\n",
       "      <td>2019</td>\n",
       "      <td>2023</td>\n",
       "    </tr>\n",
       "    <tr>\n",
       "      <th>16</th>\n",
       "      <td>CRN</td>\n",
       "      <td>Crash Record Number</td>\n",
       "      <td>NUMBER</td>\n",
       "      <td>2.0</td>\n",
       "      <td>identifies a unique crash case\\nDatabase key f...</td>\n",
       "      <td>mean=2020970397.8, min=2019000228, max=2024023477</td>\n",
       "      <td>2020008819</td>\n",
       "      <td>2023085796</td>\n",
       "    </tr>\n",
       "    <tr>\n",
       "      <th>17</th>\n",
       "      <td>DAY_OF_WEEK</td>\n",
       "      <td>Day of the Week code when crash occurred</td>\n",
       "      <td>TEXT</td>\n",
       "      <td>1.0</td>\n",
       "      <td>See Column Code</td>\n",
       "      <td>mean=4.07, min=1, max=7</td>\n",
       "      <td>1</td>\n",
       "      <td>2</td>\n",
       "    </tr>\n",
       "    <tr>\n",
       "      <th>18</th>\n",
       "      <td>DEC_LAT</td>\n",
       "      <td>Decimal format of the Latitude</td>\n",
       "      <td>NUMBER</td>\n",
       "      <td>2.4</td>\n",
       "      <td>Latitude expressed in decimal\\ndegrees 99.9999</td>\n",
       "      <td>mean=39.99, min=39.0, max=40.13</td>\n",
       "      <td>40.0214</td>\n",
       "      <td>39.9767</td>\n",
       "    </tr>\n",
       "    <tr>\n",
       "      <th>19</th>\n",
       "      <td>DEC_LONG</td>\n",
       "      <td>Decimal format of the Longitude</td>\n",
       "      <td>NUMBER</td>\n",
       "      <td>2.4</td>\n",
       "      <td>Longitude expressed in decimal\\ndegrees 99.9999</td>\n",
       "      <td>mean=-75.15, min=-75.28, max=-74.0</td>\n",
       "      <td>-75.0794</td>\n",
       "      <td>-75.1649</td>\n",
       "    </tr>\n",
       "  </tbody>\n",
       "</table>\n",
       "</div>"
      ],
      "text/plain": [
       "          column_name                                description    type  \\\n",
       "10     COLLISION_TYPE  Collision category that defines the crash    TEXT   \n",
       "11     COMM_VEH_COUNT         Total Commercial vehicles involved  NUMBER   \n",
       "12  CONS_ZONE_SPD_LIM      Speed limit for the Construction Zone    TEXT   \n",
       "13             COUNTY    County Code Number where crash occurred    TEXT   \n",
       "14        CRASH_MONTH              Month when the crash occurred    TEXT   \n",
       "15         CRASH_YEAR               Year when the crash occurred    TEXT   \n",
       "16                CRN                        Crash Record Number  NUMBER   \n",
       "17        DAY_OF_WEEK   Day of the Week code when crash occurred    TEXT   \n",
       "18            DEC_LAT             Decimal format of the Latitude  NUMBER   \n",
       "19           DEC_LONG            Decimal format of the Longitude  NUMBER   \n",
       "\n",
       "    length                                        constraints  \\\n",
       "10     1.0                                    See Column Code   \n",
       "11     2.0                                                NaN   \n",
       "12     2.0                                                NaN   \n",
       "13     2.0                                    See Column Code   \n",
       "14     2.0                                                NaN   \n",
       "15     4.0                                                NaN   \n",
       "16     2.0  identifies a unique crash case\\nDatabase key f...   \n",
       "17     1.0                                    See Column Code   \n",
       "18     2.4     Latitude expressed in decimal\\ndegrees 99.9999   \n",
       "19     2.4    Longitude expressed in decimal\\ndegrees 99.9999   \n",
       "\n",
       "                                              summary       sample1  \\\n",
       "10             Angle, Rear-end, Sideswipe (same dir.)         Angle   \n",
       "11                            mean=0.07, min=0, max=5             0   \n",
       "12                       mean=48.2, min=5.0, max=99.0           NaN   \n",
       "13                                       PHILADELPHIA  PHILADELPHIA   \n",
       "14                           mean=6.57, min=1, max=12             3   \n",
       "15                   mean=2020.87, min=2019, max=2023          2019   \n",
       "16  mean=2020970397.8, min=2019000228, max=2024023477    2020008819   \n",
       "17                            mean=4.07, min=1, max=7             1   \n",
       "18                    mean=39.99, min=39.0, max=40.13       40.0214   \n",
       "19                 mean=-75.15, min=-75.28, max=-74.0      -75.0794   \n",
       "\n",
       "         sample2  \n",
       "10         Angle  \n",
       "11             0  \n",
       "12           NaN  \n",
       "13  PHILADELPHIA  \n",
       "14             9  \n",
       "15          2023  \n",
       "16    2023085796  \n",
       "17             2  \n",
       "18       39.9767  \n",
       "19      -75.1649  "
      ]
     },
     "execution_count": 212,
     "metadata": {},
     "output_type": "execute_result"
    }
   ],
   "source": [
    "df_crash_dict[10:20]"
   ]
  },
  {
   "cell_type": "code",
   "execution_count": 213,
   "id": "0b5a8899",
   "metadata": {},
   "outputs": [],
   "source": [
    "# both collisions were at an angle where the front of one car hits the side of the other\n",
    "# no commercial vehicles\n",
    "# no construction zone\n",
    "# in Philadelphia\n",
    "# crash 1 was in March 2019 and crash 2 was in September 2023\n",
    "# crash 1 was on Sunday and crash 2 was on Monday\n",
    "# crash 1 occurred at the intersection of Frankford Ave and Dyre St (my Mom grew up in that neighborhood)\n",
    "# crash 2 occurred at the intersection of Jefferson St and N 18th St. (near Temple University)\n"
   ]
  },
  {
   "cell_type": "code",
   "execution_count": 264,
   "id": "6e589949",
   "metadata": {},
   "outputs": [
    {
     "data": {
      "text/plain": [
       "Angle                        0.322839\n",
       "Rear-end                     0.202762\n",
       "Sideswipe (same dir.)        0.133949\n",
       "Hit fixed object             0.132771\n",
       "Hit pedestrian               0.132710\n",
       "Head-on                      0.036356\n",
       "Sideswipe (Opposite dir.)    0.021387\n",
       "Non-collision                0.009384\n",
       "Backing                      0.004915\n",
       "Unknown                      0.001483\n",
       "Other                        0.001442\n",
       "Name: COLLISION_TYPE, dtype: float64"
      ]
     },
     "execution_count": 264,
     "metadata": {},
     "output_type": "execute_result"
    }
   ],
   "source": [
    "# About 1/3 of crashes involve a car hitting another car in the side.\n",
    "# 20% involve a read-end\n",
    "# 13% of crashes involve pedestrians\n",
    "df_crash.COLLISION_TYPE.value_counts(normalize=True,dropna=False)"
   ]
  },
  {
   "cell_type": "code",
   "execution_count": 265,
   "id": "39f3a7b9",
   "metadata": {},
   "outputs": [
    {
     "data": {
      "text/plain": [
       "0    0.936041\n",
       "1    0.061359\n",
       "2    0.002498\n",
       "3    0.000081\n",
       "5    0.000020\n",
       "Name: COMM_VEH_COUNT, dtype: float64"
      ]
     },
     "execution_count": 265,
     "metadata": {},
     "output_type": "execute_result"
    }
   ],
   "source": [
    "# 6.3% of crashes involve a commercial vehicle\n",
    "df_crash.COMM_VEH_COUNT.value_counts(normalize=True,dropna=False)"
   ]
  },
  {
   "cell_type": "code",
   "execution_count": 266,
   "id": "cb8a679c",
   "metadata": {},
   "outputs": [
    {
     "data": {
      "text/plain": [
       "NaN     0.987550\n",
       "45.0    0.005504\n",
       "35.0    0.001686\n",
       "55.0    0.001341\n",
       "99.0    0.001198\n",
       "25.0    0.000873\n",
       "50.0    0.000589\n",
       "15.0    0.000325\n",
       "90.0    0.000305\n",
       "40.0    0.000244\n",
       "30.0    0.000162\n",
       "20.0    0.000102\n",
       "5.0     0.000081\n",
       "10.0    0.000041\n",
       "Name: CONS_ZONE_SPD_LIM, dtype: float64"
      ]
     },
     "execution_count": 266,
     "metadata": {},
     "output_type": "execute_result"
    }
   ],
   "source": [
    "# most crashes do not have a construction zone speed limit value so they probably didn't occur in a construction zone\n",
    "# I am not sure what \"99\" means but I am sure it's not a speed limit.\n",
    "df_crash.CONS_ZONE_SPD_LIM.value_counts(normalize=True,dropna=False)"
   ]
  },
  {
   "cell_type": "code",
   "execution_count": 267,
   "id": "cb6072bd",
   "metadata": {},
   "outputs": [
    {
     "data": {
      "text/plain": [
       "10    0.090444\n",
       "5     0.089306\n",
       "8     0.086768\n",
       "9     0.086057\n",
       "3     0.083944\n",
       "7     0.083498\n",
       "12    0.082929\n",
       "6     0.081263\n",
       "1     0.081081\n",
       "11    0.081040\n",
       "2     0.077201\n",
       "4     0.076470\n",
       "Name: CRASH_MONTH, dtype: float64"
      ]
     },
     "execution_count": 267,
     "metadata": {},
     "output_type": "execute_result"
    }
   ],
   "source": [
    "# October has the most crashes followed by May\n",
    "# I wonder if this has to do with people going away on vacations and going to the beach in the summer\n",
    "df_crash.CRASH_MONTH.value_counts(normalize=True,dropna=False)"
   ]
  },
  {
   "cell_type": "code",
   "execution_count": 270,
   "id": "e71ad4b2",
   "metadata": {},
   "outputs": [
    {
     "data": {
      "text/plain": [
       "2019    11159\n",
       "2021    10552\n",
       "2020    10171\n",
       "2022     8783\n",
       "2023     8570\n",
       "Name: CRASH_YEAR, dtype: int64"
      ]
     },
     "execution_count": 270,
     "metadata": {},
     "output_type": "execute_result"
    }
   ],
   "source": [
    "# 2019 has the highest crash volume of all 5 years.  2020 is in the middle of the group.\n",
    "# I would have expected 2020 to have the lowest volume since so many people quarantined during the pandemic.\n",
    "df_crash.CRASH_YEAR.value_counts(dropna=False)"
   ]
  },
  {
   "cell_type": "code",
   "execution_count": 273,
   "id": "804a6aa5",
   "metadata": {},
   "outputs": [
    {
     "data": {
      "text/plain": [
       "7    0.158627\n",
       "6    0.154321\n",
       "1    0.150889\n",
       "5    0.135209\n",
       "2    0.134701\n",
       "4    0.134132\n",
       "3    0.132121\n",
       "Name: DAY_OF_WEEK, dtype: float64"
      ]
     },
     "execution_count": 273,
     "metadata": {},
     "output_type": "execute_result"
    }
   ],
   "source": [
    "# 1=Sunday\n",
    "# Saturday has the most crashes with Friday coming in 2nd place and Sunday coming in 3rd.\n",
    "df_crash.DAY_OF_WEEK.value_counts(normalize=True,dropna=False)"
   ]
  },
  {
   "cell_type": "code",
   "execution_count": null,
   "id": "c6085884",
   "metadata": {},
   "outputs": [],
   "source": [
    "# 1=Sunday\n",
    "# Saturday has the most crashes with Friday coming in 2nd place and Sunday coming in 3rd.\n",
    "df_crash.DAY_OF_WEEK.value_counts(normalize=True,dropna=False)"
   ]
  },
  {
   "cell_type": "markdown",
   "id": "d7c83f9a",
   "metadata": {},
   "source": [
    "## Fields 20-29"
   ]
  },
  {
   "cell_type": "code",
   "execution_count": 274,
   "id": "eadf4dd2",
   "metadata": {},
   "outputs": [
    {
     "data": {
      "text/html": [
       "<div>\n",
       "<style scoped>\n",
       "    .dataframe tbody tr th:only-of-type {\n",
       "        vertical-align: middle;\n",
       "    }\n",
       "\n",
       "    .dataframe tbody tr th {\n",
       "        vertical-align: top;\n",
       "    }\n",
       "\n",
       "    .dataframe thead th {\n",
       "        text-align: right;\n",
       "    }\n",
       "</style>\n",
       "<table border=\"1\" class=\"dataframe\">\n",
       "  <thead>\n",
       "    <tr style=\"text-align: right;\">\n",
       "      <th></th>\n",
       "      <th>column_name</th>\n",
       "      <th>description</th>\n",
       "      <th>type</th>\n",
       "      <th>length</th>\n",
       "      <th>constraints</th>\n",
       "      <th>summary</th>\n",
       "      <th>sample1</th>\n",
       "      <th>sample2</th>\n",
       "    </tr>\n",
       "  </thead>\n",
       "  <tbody>\n",
       "    <tr>\n",
       "      <th>20</th>\n",
       "      <td>DISPATCH_TM</td>\n",
       "      <td>Time police were dispatched to the scene</td>\n",
       "      <td>TEXT</td>\n",
       "      <td>4.0</td>\n",
       "      <td>HHMM (Hour Minute)</td>\n",
       "      <td>mean=1280.69, min=0.0, max=9999.0</td>\n",
       "      <td>NaN</td>\n",
       "      <td>1739.0</td>\n",
       "    </tr>\n",
       "    <tr>\n",
       "      <th>21</th>\n",
       "      <td>DISTRICT</td>\n",
       "      <td>\\nDistrict Number where crash occurred (Based ...</td>\n",
       "      <td>TEXT</td>\n",
       "      <td>2.0</td>\n",
       "      <td>See Column Code</td>\n",
       "      <td>District 6 (Bucks, Chester, Delaware, Montgome...</td>\n",
       "      <td>District 6 (Bucks, Chester, Delaware, Montgome...</td>\n",
       "      <td>District 6 (Bucks, Chester, Delaware, Montgome...</td>\n",
       "    </tr>\n",
       "    <tr>\n",
       "      <th>22</th>\n",
       "      <td>DRIVER_COUNT_16YR</td>\n",
       "      <td>Total amount of 16-year-old drivers</td>\n",
       "      <td>NUMBER</td>\n",
       "      <td>2.0</td>\n",
       "      <td>NaN</td>\n",
       "      <td>mean=0.0, min=0, max=2</td>\n",
       "      <td>0</td>\n",
       "      <td>0</td>\n",
       "    </tr>\n",
       "    <tr>\n",
       "      <th>23</th>\n",
       "      <td>DRIVER_COUNT_17YR</td>\n",
       "      <td>Total amount of 17-year-old drivers</td>\n",
       "      <td>NUMBER</td>\n",
       "      <td>2.0</td>\n",
       "      <td>NaN</td>\n",
       "      <td>mean=0.01, min=0, max=2</td>\n",
       "      <td>0</td>\n",
       "      <td>0</td>\n",
       "    </tr>\n",
       "    <tr>\n",
       "      <th>24</th>\n",
       "      <td>DRIVER_COUNT_18YR</td>\n",
       "      <td>Total amount of 18-year-old drivers</td>\n",
       "      <td>NUMBER</td>\n",
       "      <td>2.0</td>\n",
       "      <td>NaN</td>\n",
       "      <td>mean=0.02, min=0, max=2</td>\n",
       "      <td>0</td>\n",
       "      <td>0</td>\n",
       "    </tr>\n",
       "    <tr>\n",
       "      <th>25</th>\n",
       "      <td>DRIVER_COUNT_19YR</td>\n",
       "      <td>Total amount of 19-year old drivers</td>\n",
       "      <td>NUMBER</td>\n",
       "      <td>2.0</td>\n",
       "      <td>NaN</td>\n",
       "      <td>mean=0.03, min=0, max=2</td>\n",
       "      <td>0</td>\n",
       "      <td>0</td>\n",
       "    </tr>\n",
       "    <tr>\n",
       "      <th>26</th>\n",
       "      <td>DRIVER_COUNT_20YR</td>\n",
       "      <td>Total amount of 20-year-old drivers</td>\n",
       "      <td>NUMBER</td>\n",
       "      <td>2.0</td>\n",
       "      <td>NaN</td>\n",
       "      <td>mean=0.04, min=0, max=2</td>\n",
       "      <td>0</td>\n",
       "      <td>0</td>\n",
       "    </tr>\n",
       "    <tr>\n",
       "      <th>27</th>\n",
       "      <td>DRIVER_COUNT_50_64YR</td>\n",
       "      <td>Total amount of 50 to 64-year-old drivers</td>\n",
       "      <td>NUMBER</td>\n",
       "      <td>2.0</td>\n",
       "      <td>NaN</td>\n",
       "      <td>mean=0.26, min=0, max=4</td>\n",
       "      <td>0</td>\n",
       "      <td>0</td>\n",
       "    </tr>\n",
       "    <tr>\n",
       "      <th>28</th>\n",
       "      <td>DRIVER_COUNT_65_74YR</td>\n",
       "      <td>Total amount of 65 to 74-year-old drivers</td>\n",
       "      <td>NUMBER</td>\n",
       "      <td>2.0</td>\n",
       "      <td>NaN</td>\n",
       "      <td>mean=0.07, min=0, max=3</td>\n",
       "      <td>0</td>\n",
       "      <td>0</td>\n",
       "    </tr>\n",
       "    <tr>\n",
       "      <th>29</th>\n",
       "      <td>DRIVER_COUNT_75PLUS</td>\n",
       "      <td>Total amount of drivers ages 75 and up</td>\n",
       "      <td>NUMBER</td>\n",
       "      <td>2.0</td>\n",
       "      <td>NaN</td>\n",
       "      <td>mean=0.03, min=0, max=2</td>\n",
       "      <td>0</td>\n",
       "      <td>0</td>\n",
       "    </tr>\n",
       "  </tbody>\n",
       "</table>\n",
       "</div>"
      ],
      "text/plain": [
       "             column_name                                        description  \\\n",
       "20           DISPATCH_TM           Time police were dispatched to the scene   \n",
       "21              DISTRICT  \\nDistrict Number where crash occurred (Based ...   \n",
       "22     DRIVER_COUNT_16YR                Total amount of 16-year-old drivers   \n",
       "23     DRIVER_COUNT_17YR                Total amount of 17-year-old drivers   \n",
       "24     DRIVER_COUNT_18YR                Total amount of 18-year-old drivers   \n",
       "25     DRIVER_COUNT_19YR                Total amount of 19-year old drivers   \n",
       "26     DRIVER_COUNT_20YR                Total amount of 20-year-old drivers   \n",
       "27  DRIVER_COUNT_50_64YR          Total amount of 50 to 64-year-old drivers   \n",
       "28  DRIVER_COUNT_65_74YR          Total amount of 65 to 74-year-old drivers   \n",
       "29   DRIVER_COUNT_75PLUS             Total amount of drivers ages 75 and up   \n",
       "\n",
       "      type  length         constraints  \\\n",
       "20    TEXT     4.0  HHMM (Hour Minute)   \n",
       "21    TEXT     2.0     See Column Code   \n",
       "22  NUMBER     2.0                 NaN   \n",
       "23  NUMBER     2.0                 NaN   \n",
       "24  NUMBER     2.0                 NaN   \n",
       "25  NUMBER     2.0                 NaN   \n",
       "26  NUMBER     2.0                 NaN   \n",
       "27  NUMBER     2.0                 NaN   \n",
       "28  NUMBER     2.0                 NaN   \n",
       "29  NUMBER     2.0                 NaN   \n",
       "\n",
       "                                              summary  \\\n",
       "20                  mean=1280.69, min=0.0, max=9999.0   \n",
       "21  District 6 (Bucks, Chester, Delaware, Montgome...   \n",
       "22                             mean=0.0, min=0, max=2   \n",
       "23                            mean=0.01, min=0, max=2   \n",
       "24                            mean=0.02, min=0, max=2   \n",
       "25                            mean=0.03, min=0, max=2   \n",
       "26                            mean=0.04, min=0, max=2   \n",
       "27                            mean=0.26, min=0, max=4   \n",
       "28                            mean=0.07, min=0, max=3   \n",
       "29                            mean=0.03, min=0, max=2   \n",
       "\n",
       "                                              sample1  \\\n",
       "20                                                NaN   \n",
       "21  District 6 (Bucks, Chester, Delaware, Montgome...   \n",
       "22                                                  0   \n",
       "23                                                  0   \n",
       "24                                                  0   \n",
       "25                                                  0   \n",
       "26                                                  0   \n",
       "27                                                  0   \n",
       "28                                                  0   \n",
       "29                                                  0   \n",
       "\n",
       "                                              sample2  \n",
       "20                                             1739.0  \n",
       "21  District 6 (Bucks, Chester, Delaware, Montgome...  \n",
       "22                                                  0  \n",
       "23                                                  0  \n",
       "24                                                  0  \n",
       "25                                                  0  \n",
       "26                                                  0  \n",
       "27                                                  0  \n",
       "28                                                  0  \n",
       "29                                                  0  "
      ]
     },
     "execution_count": 274,
     "metadata": {},
     "output_type": "execute_result"
    }
   ],
   "source": [
    "df_crash_dict[20:30]"
   ]
  },
  {
   "cell_type": "code",
   "execution_count": 277,
   "id": "4528f95c",
   "metadata": {},
   "outputs": [],
   "source": [
    "# the first event does not have a dispatch time.  The 2nd event has a time of 5:39\n",
    "# All events are in District 6\n",
    "# The \"driver count within age range x\" are all zero. Not sure why."
   ]
  },
  {
   "cell_type": "code",
   "execution_count": 278,
   "id": "75e457b3",
   "metadata": {},
   "outputs": [
    {
     "data": {
      "text/plain": [
       "NaN       0.028069\n",
       "1600.0    0.003047\n",
       "1630.0    0.002925\n",
       "1700.0    0.002539\n",
       "1900.0    0.002458\n",
       "            ...   \n",
       "544.0     0.000183\n",
       "442.0     0.000183\n",
       "331.0     0.000162\n",
       "553.0     0.000162\n",
       "459.0     0.000041\n",
       "Name: DISPATCH_TM, Length: 1442, dtype: float64"
      ]
     },
     "execution_count": 278,
     "metadata": {},
     "output_type": "execute_result"
    }
   ],
   "source": [
    "# The most popular dispatch time is 4pm followed by 4:30\n",
    "df_crash.DISPATCH_TM.value_counts(normalize=True,dropna=False)"
   ]
  },
  {
   "cell_type": "code",
   "execution_count": 279,
   "id": "bfa01511",
   "metadata": {},
   "outputs": [
    {
     "data": {
      "text/plain": [
       "District 6 (Bucks, Chester, Delaware, Montgomery, Philadelphia Counties)    1.0\n",
       "Name: DISTRICT, dtype: float64"
      ]
     },
     "execution_count": 279,
     "metadata": {},
     "output_type": "execute_result"
    }
   ],
   "source": [
    "# Always District 6\n",
    "df_crash.DISTRICT.value_counts(normalize=True,dropna=False)"
   ]
  },
  {
   "cell_type": "code",
   "execution_count": 280,
   "id": "c0849192",
   "metadata": {},
   "outputs": [
    {
     "data": {
      "text/plain": [
       "0    0.996811\n",
       "1    0.003148\n",
       "2    0.000041\n",
       "Name: DRIVER_COUNT_16YR, dtype: float64"
      ]
     },
     "execution_count": 280,
     "metadata": {},
     "output_type": "execute_result"
    }
   ],
   "source": [
    "# 0.32% of accidents involve a 16 year old driver\n",
    "df_crash.DRIVER_COUNT_16YR.value_counts(normalize=True,dropna=False)"
   ]
  },
  {
   "cell_type": "code",
   "execution_count": 282,
   "id": "6ad568e0",
   "metadata": {},
   "outputs": [
    {
     "data": {
      "text/plain": [
       "0    0.988545\n",
       "1    0.011354\n",
       "2    0.000102\n",
       "Name: DRIVER_COUNT_17YR, dtype: float64"
      ]
     },
     "execution_count": 282,
     "metadata": {},
     "output_type": "execute_result"
    }
   ],
   "source": [
    "# 1.1% of accidents involve a 17 year old driver\n",
    "df_crash.DRIVER_COUNT_17YR.value_counts(normalize=True,dropna=False)"
   ]
  },
  {
   "cell_type": "code",
   "execution_count": 283,
   "id": "72038916",
   "metadata": {},
   "outputs": [
    {
     "data": {
      "text/plain": [
       "0    0.978003\n",
       "1    0.021692\n",
       "2    0.000305\n",
       "Name: DRIVER_COUNT_18YR, dtype: float64"
      ]
     },
     "execution_count": 283,
     "metadata": {},
     "output_type": "execute_result"
    }
   ],
   "source": [
    "# 2.2% of accidents involve an 18 year old driver\n",
    "df_crash.DRIVER_COUNT_18YR.value_counts(normalize=True,dropna=False)"
   ]
  },
  {
   "cell_type": "code",
   "execution_count": 284,
   "id": "313088a4",
   "metadata": {},
   "outputs": [
    {
     "data": {
      "text/plain": [
       "0    0.969067\n",
       "1    0.030629\n",
       "2    0.000305\n",
       "Name: DRIVER_COUNT_19YR, dtype: float64"
      ]
     },
     "execution_count": 284,
     "metadata": {},
     "output_type": "execute_result"
    }
   ],
   "source": [
    "# 3.1% of accidents involve a 19 year old driver\n",
    "df_crash.DRIVER_COUNT_19YR.value_counts(normalize=True,dropna=False)"
   ]
  },
  {
   "cell_type": "code",
   "execution_count": 286,
   "id": "f95ebab6",
   "metadata": {},
   "outputs": [
    {
     "data": {
      "text/plain": [
       "0    0.964862\n",
       "1    0.034731\n",
       "2    0.000406\n",
       "Name: DRIVER_COUNT_20YR, dtype: float64"
      ]
     },
     "execution_count": 286,
     "metadata": {},
     "output_type": "execute_result"
    }
   ],
   "source": [
    "# 3.5% of accidents involve a 20 year old driver\n",
    "df_crash.DRIVER_COUNT_20YR.value_counts(normalize=True,dropna=False)"
   ]
  },
  {
   "cell_type": "code",
   "execution_count": 288,
   "id": "ece56adf",
   "metadata": {},
   "outputs": [
    {
     "data": {
      "text/plain": [
       "0    0.763725\n",
       "1    0.214766\n",
       "2    0.020351\n",
       "3    0.001117\n",
       "4    0.000041\n",
       "Name: DRIVER_COUNT_50_64YR, dtype: float64"
      ]
     },
     "execution_count": 288,
     "metadata": {},
     "output_type": "execute_result"
    }
   ],
   "source": [
    "# 23% of accidents involve a 50-64 year old driver\n",
    "df_crash.DRIVER_COUNT_50_64YR.value_counts(normalize=True,dropna=False)"
   ]
  },
  {
   "cell_type": "code",
   "execution_count": 289,
   "id": "126c20b2",
   "metadata": {},
   "outputs": [
    {
     "data": {
      "text/plain": [
       "0    0.932284\n",
       "1    0.066112\n",
       "2    0.001564\n",
       "3    0.000041\n",
       "Name: DRIVER_COUNT_65_74YR, dtype: float64"
      ]
     },
     "execution_count": 289,
     "metadata": {},
     "output_type": "execute_result"
    }
   ],
   "source": [
    "# 6.8% of accidents involve a 65-74 year old driver\n",
    "df_crash.DRIVER_COUNT_65_74YR.value_counts(normalize=True,dropna=False)"
   ]
  },
  {
   "cell_type": "code",
   "execution_count": 290,
   "id": "fc3044fc",
   "metadata": {},
   "outputs": [
    {
     "data": {
      "text/plain": [
       "0    0.973190\n",
       "1    0.026343\n",
       "2    0.000467\n",
       "Name: DRIVER_COUNT_75PLUS, dtype: float64"
      ]
     },
     "execution_count": 290,
     "metadata": {},
     "output_type": "execute_result"
    }
   ],
   "source": [
    "# 2.6% of accidents involve a 75+ year old driver\n",
    "df_crash.DRIVER_COUNT_75PLUS.value_counts(normalize=True,dropna=False)"
   ]
  },
  {
   "cell_type": "markdown",
   "id": "5e6c4ea3",
   "metadata": {},
   "source": [
    "## Fields 30-39"
   ]
  },
  {
   "cell_type": "code",
   "execution_count": 214,
   "id": "9a06c509",
   "metadata": {},
   "outputs": [
    {
     "data": {
      "text/html": [
       "<div>\n",
       "<style scoped>\n",
       "    .dataframe tbody tr th:only-of-type {\n",
       "        vertical-align: middle;\n",
       "    }\n",
       "\n",
       "    .dataframe tbody tr th {\n",
       "        vertical-align: top;\n",
       "    }\n",
       "\n",
       "    .dataframe thead th {\n",
       "        text-align: right;\n",
       "    }\n",
       "</style>\n",
       "<table border=\"1\" class=\"dataframe\">\n",
       "  <thead>\n",
       "    <tr style=\"text-align: right;\">\n",
       "      <th></th>\n",
       "      <th>column_name</th>\n",
       "      <th>description</th>\n",
       "      <th>type</th>\n",
       "      <th>length</th>\n",
       "      <th>constraints</th>\n",
       "      <th>summary</th>\n",
       "      <th>sample1</th>\n",
       "      <th>sample2</th>\n",
       "    </tr>\n",
       "  </thead>\n",
       "  <tbody>\n",
       "    <tr>\n",
       "      <th>30</th>\n",
       "      <td>EST_HRS_CLOSED</td>\n",
       "      <td>Estimated hours roadway was closed</td>\n",
       "      <td>TEXT</td>\n",
       "      <td>1.0</td>\n",
       "      <td>HHMM</td>\n",
       "      <td>mean=2.64, min=1.0, max=9.0</td>\n",
       "      <td>NaN</td>\n",
       "      <td>NaN</td>\n",
       "    </tr>\n",
       "    <tr>\n",
       "      <th>31</th>\n",
       "      <td>FATAL_COUNT</td>\n",
       "      <td>Total amount of fatalities involved</td>\n",
       "      <td>NUMBER</td>\n",
       "      <td>2.0</td>\n",
       "      <td>NaN</td>\n",
       "      <td>mean=0.01, min=0, max=4</td>\n",
       "      <td>0</td>\n",
       "      <td>0</td>\n",
       "    </tr>\n",
       "    <tr>\n",
       "      <th>32</th>\n",
       "      <td>HEAVY_TRUCK_COUNT</td>\n",
       "      <td>Total amount of Heavy Trucks involved</td>\n",
       "      <td>NUMBER</td>\n",
       "      <td>2.0</td>\n",
       "      <td>NaN</td>\n",
       "      <td>mean=0.05, min=0, max=3</td>\n",
       "      <td>0</td>\n",
       "      <td>0</td>\n",
       "    </tr>\n",
       "    <tr>\n",
       "      <th>33</th>\n",
       "      <td>HORSE_BUGGY_COUNT</td>\n",
       "      <td>involved in the Crash\\nTotal Number of Horse a...</td>\n",
       "      <td>NUMBER</td>\n",
       "      <td>2.0</td>\n",
       "      <td>NaN</td>\n",
       "      <td>mean=0.0, min=0.0, max=1.0</td>\n",
       "      <td>0.0</td>\n",
       "      <td>0.0</td>\n",
       "    </tr>\n",
       "    <tr>\n",
       "      <th>34</th>\n",
       "      <td>HOUR_OF_DAY</td>\n",
       "      <td>The hour of Day when the crash occurred</td>\n",
       "      <td>TEXT</td>\n",
       "      <td>2.0</td>\n",
       "      <td>00 to 23</td>\n",
       "      <td>mean=12.74, min=0.0, max=99.0</td>\n",
       "      <td>8.0</td>\n",
       "      <td>17.0</td>\n",
       "    </tr>\n",
       "    <tr>\n",
       "      <th>35</th>\n",
       "      <td>ILLUMINATION</td>\n",
       "      <td>Code that defines lighting at crash scene</td>\n",
       "      <td>TEXT</td>\n",
       "      <td>1.0</td>\n",
       "      <td>See Column Code</td>\n",
       "      <td>Daylight, Dark - streetlights, Dusk</td>\n",
       "      <td>Daylight</td>\n",
       "      <td>Daylight</td>\n",
       "    </tr>\n",
       "    <tr>\n",
       "      <th>36</th>\n",
       "      <td>INJURY_COUNT</td>\n",
       "      <td>Total count of all injuries sustained</td>\n",
       "      <td>NUMBER</td>\n",
       "      <td>2.0</td>\n",
       "      <td>NaN</td>\n",
       "      <td>mean=0.9, min=0, max=25</td>\n",
       "      <td>1</td>\n",
       "      <td>1</td>\n",
       "    </tr>\n",
       "    <tr>\n",
       "      <th>37</th>\n",
       "      <td>INTERSECT_TYPE</td>\n",
       "      <td>Code that defines the Intersection Type</td>\n",
       "      <td>TEXT</td>\n",
       "      <td>2.0</td>\n",
       "      <td>See Column Code</td>\n",
       "      <td>mean=0.76, min=0, max=13</td>\n",
       "      <td>1</td>\n",
       "      <td>1</td>\n",
       "    </tr>\n",
       "    <tr>\n",
       "      <th>38</th>\n",
       "      <td>INTERSECTION_RELATED</td>\n",
       "      <td>Was this midblock crash related to a nearby in...</td>\n",
       "      <td>TEXT</td>\n",
       "      <td>1.0</td>\n",
       "      <td>1=Y, 0 = N</td>\n",
       "      <td>null, N, Y</td>\n",
       "      <td>NaN</td>\n",
       "      <td>NaN</td>\n",
       "    </tr>\n",
       "    <tr>\n",
       "      <th>39</th>\n",
       "      <td>LANE_CLOSED</td>\n",
       "      <td>Was there a lane closure? (Y/N)</td>\n",
       "      <td>TEXT</td>\n",
       "      <td>1.0</td>\n",
       "      <td>1=Y, 0 = N</td>\n",
       "      <td>mean=0.46, min=0, max=9</td>\n",
       "      <td>0</td>\n",
       "      <td>0</td>\n",
       "    </tr>\n",
       "  </tbody>\n",
       "</table>\n",
       "</div>"
      ],
      "text/plain": [
       "             column_name                                        description  \\\n",
       "30        EST_HRS_CLOSED                 Estimated hours roadway was closed   \n",
       "31           FATAL_COUNT                Total amount of fatalities involved   \n",
       "32     HEAVY_TRUCK_COUNT              Total amount of Heavy Trucks involved   \n",
       "33     HORSE_BUGGY_COUNT  involved in the Crash\\nTotal Number of Horse a...   \n",
       "34           HOUR_OF_DAY            The hour of Day when the crash occurred   \n",
       "35          ILLUMINATION          Code that defines lighting at crash scene   \n",
       "36          INJURY_COUNT              Total count of all injuries sustained   \n",
       "37        INTERSECT_TYPE            Code that defines the Intersection Type   \n",
       "38  INTERSECTION_RELATED  Was this midblock crash related to a nearby in...   \n",
       "39           LANE_CLOSED                    Was there a lane closure? (Y/N)   \n",
       "\n",
       "      type  length      constraints                              summary  \\\n",
       "30    TEXT     1.0             HHMM          mean=2.64, min=1.0, max=9.0   \n",
       "31  NUMBER     2.0              NaN              mean=0.01, min=0, max=4   \n",
       "32  NUMBER     2.0              NaN              mean=0.05, min=0, max=3   \n",
       "33  NUMBER     2.0              NaN           mean=0.0, min=0.0, max=1.0   \n",
       "34    TEXT     2.0         00 to 23        mean=12.74, min=0.0, max=99.0   \n",
       "35    TEXT     1.0  See Column Code  Daylight, Dark - streetlights, Dusk   \n",
       "36  NUMBER     2.0              NaN              mean=0.9, min=0, max=25   \n",
       "37    TEXT     2.0  See Column Code             mean=0.76, min=0, max=13   \n",
       "38    TEXT     1.0       1=Y, 0 = N                           null, N, Y   \n",
       "39    TEXT     1.0       1=Y, 0 = N              mean=0.46, min=0, max=9   \n",
       "\n",
       "     sample1   sample2  \n",
       "30       NaN       NaN  \n",
       "31         0         0  \n",
       "32         0         0  \n",
       "33       0.0       0.0  \n",
       "34       8.0      17.0  \n",
       "35  Daylight  Daylight  \n",
       "36         1         1  \n",
       "37         1         1  \n",
       "38       NaN       NaN  \n",
       "39         0         0  "
      ]
     },
     "execution_count": 214,
     "metadata": {},
     "output_type": "execute_result"
    }
   ],
   "source": [
    "df_crash_dict[30:40]"
   ]
  },
  {
   "cell_type": "markdown",
   "id": "884c65b2",
   "metadata": {},
   "source": [
    "## <span style=\"color:red\">🚨 THERE WERE NO HORSE AND BUGGIES INVOLVED IN EITHER ACCIDENT 🚨</span>"
   ]
  },
  {
   "cell_type": "code",
   "execution_count": 228,
   "id": "fd0184d8",
   "metadata": {},
   "outputs": [],
   "source": [
    "# the road was not closed\n",
    "# no fatalities, not heavy trucks\n",
    "# the first accident occurred at 8am and the second occured at 5pm\n",
    "# both accidents occurred during daylight which makes sense given the time of year and the time of day\n",
    "# 1 injury in each accident\n",
    "# intersection type is \"4 way\" for both\n",
    "# there was no lane closure"
   ]
  },
  {
   "cell_type": "code",
   "execution_count": 276,
   "id": "d6013d27",
   "metadata": {},
   "outputs": [
    {
     "data": {
      "text/plain": [
       "NaN    0.928669\n",
       "2.0    0.024576\n",
       "1.0    0.023114\n",
       "3.0    0.014908\n",
       "9.0    0.007210\n",
       "4.0    0.001401\n",
       "5.0    0.000081\n",
       "6.0    0.000041\n",
       "Name: EST_HRS_CLOSED, dtype: float64"
      ]
     },
     "execution_count": 276,
     "metadata": {},
     "output_type": "execute_result"
    }
   ],
   "source": [
    "# 7.1% of crashes have an estimate of how long the road was closed\n",
    "df_crash.EST_HRS_CLOSED.value_counts(normalize=True,dropna=False)"
   ]
  },
  {
   "cell_type": "code",
   "execution_count": null,
   "id": "d0157757",
   "metadata": {},
   "outputs": [],
   "source": [
    "XXXXXXXXXXXXXXXXXXXXXXXXXXXXXXXXXXXXXXXXXXXXXXXXXXXXXXXXXXXX"
   ]
  },
  {
   "cell_type": "code",
   "execution_count": null,
   "id": "29d9a5c1",
   "metadata": {},
   "outputs": [],
   "source": []
  },
  {
   "cell_type": "code",
   "execution_count": null,
   "id": "bbf398c7",
   "metadata": {},
   "outputs": [],
   "source": []
  },
  {
   "cell_type": "code",
   "execution_count": 229,
   "id": "c3f51f91",
   "metadata": {},
   "outputs": [
    {
     "data": {
      "text/html": [
       "<div>\n",
       "<style scoped>\n",
       "    .dataframe tbody tr th:only-of-type {\n",
       "        vertical-align: middle;\n",
       "    }\n",
       "\n",
       "    .dataframe tbody tr th {\n",
       "        vertical-align: top;\n",
       "    }\n",
       "\n",
       "    .dataframe thead th {\n",
       "        text-align: right;\n",
       "    }\n",
       "</style>\n",
       "<table border=\"1\" class=\"dataframe\">\n",
       "  <thead>\n",
       "    <tr style=\"text-align: right;\">\n",
       "      <th></th>\n",
       "      <th>column_name</th>\n",
       "      <th>description</th>\n",
       "      <th>type</th>\n",
       "      <th>length</th>\n",
       "      <th>constraints</th>\n",
       "      <th>summary</th>\n",
       "      <th>sample1</th>\n",
       "      <th>sample2</th>\n",
       "    </tr>\n",
       "  </thead>\n",
       "  <tbody>\n",
       "    <tr>\n",
       "      <th>40</th>\n",
       "      <td>LATITUDE</td>\n",
       "      <td>GPS Latitude determined by PennDOT</td>\n",
       "      <td>TEXT</td>\n",
       "      <td>12.0</td>\n",
       "      <td>DD MM:SS.ddd</td>\n",
       "      <td>null, 40 00:16.847, 39 55:01.859</td>\n",
       "      <td>40 01:17.161</td>\n",
       "      <td>39 58:36.055</td>\n",
       "    </tr>\n",
       "    <tr>\n",
       "      <th>41</th>\n",
       "      <td>LN_CLOSE_DIR</td>\n",
       "      <td>Direction of traffic in closed lane (s)</td>\n",
       "      <td>TEXT</td>\n",
       "      <td>1.0</td>\n",
       "      <td>See Column Code</td>\n",
       "      <td>null, South, North</td>\n",
       "      <td>NaN</td>\n",
       "      <td>NaN</td>\n",
       "    </tr>\n",
       "    <tr>\n",
       "      <th>42</th>\n",
       "      <td>LOCATION_TYPE</td>\n",
       "      <td>Code that defines the crash location</td>\n",
       "      <td>TEXT</td>\n",
       "      <td>2.0</td>\n",
       "      <td>See Column Code</td>\n",
       "      <td>Not applicable, Driveway or Parking Lot, Bridge</td>\n",
       "      <td>Underpass</td>\n",
       "      <td>Not applicable</td>\n",
       "    </tr>\n",
       "    <tr>\n",
       "      <th>43</th>\n",
       "      <td>LONGITUDE</td>\n",
       "      <td>GPS Longitude determined by PennDOT (in negati...</td>\n",
       "      <td>TEXT</td>\n",
       "      <td>12.0</td>\n",
       "      <td>DD MM:SS.ddd</td>\n",
       "      <td>null, 75 09:07.652, 75 14:46.691</td>\n",
       "      <td>75 04:45.952</td>\n",
       "      <td>75 09:53.625</td>\n",
       "    </tr>\n",
       "    <tr>\n",
       "      <th>44</th>\n",
       "      <td>MAX_SEVERITY_LEVEL</td>\n",
       "      <td>Injury severity level of the crash</td>\n",
       "      <td>TEXT</td>\n",
       "      <td>1.0</td>\n",
       "      <td>See Column Code</td>\n",
       "      <td>Suspected Minor injury, Not injured, Injury/ U...</td>\n",
       "      <td>Suspected Minor injury</td>\n",
       "      <td>Suspected Minor injury</td>\n",
       "    </tr>\n",
       "    <tr>\n",
       "      <th>45</th>\n",
       "      <td>MCYCLE_DEATH_COUNT</td>\n",
       "      <td>Total amount of Motorcyclist fatalities</td>\n",
       "      <td>NUMBER</td>\n",
       "      <td>2.0</td>\n",
       "      <td>NaN</td>\n",
       "      <td>mean=0.0, min=0, max=1</td>\n",
       "      <td>0</td>\n",
       "      <td>0</td>\n",
       "    </tr>\n",
       "    <tr>\n",
       "      <th>46</th>\n",
       "      <td>MCYCLE_SUSP_SERIOUS_INJ_COUNT</td>\n",
       "      <td>Total amount of Motorcyclist Suspected Serious...</td>\n",
       "      <td>NUMBER</td>\n",
       "      <td>2.0</td>\n",
       "      <td>NaN</td>\n",
       "      <td>mean=0.01, min=0, max=3</td>\n",
       "      <td>0</td>\n",
       "      <td>0</td>\n",
       "    </tr>\n",
       "    <tr>\n",
       "      <th>47</th>\n",
       "      <td>MOTORCYCLE_COUNT</td>\n",
       "      <td>Total amount of Motorcycles Involved</td>\n",
       "      <td>NUMBER</td>\n",
       "      <td>2.0</td>\n",
       "      <td>NaN</td>\n",
       "      <td>mean=0.03, min=0, max=3</td>\n",
       "      <td>0</td>\n",
       "      <td>0</td>\n",
       "    </tr>\n",
       "    <tr>\n",
       "      <th>48</th>\n",
       "      <td>MUNICIPALITY</td>\n",
       "      <td>Municipality Code</td>\n",
       "      <td>TEXT</td>\n",
       "      <td>5.0</td>\n",
       "      <td>See Municipality Code</td>\n",
       "      <td>mean=67301.0, min=67301, max=67301</td>\n",
       "      <td>67301</td>\n",
       "      <td>67301</td>\n",
       "    </tr>\n",
       "    <tr>\n",
       "      <th>49</th>\n",
       "      <td>NONMOTR_COUNT</td>\n",
       "      <td>Total number of Non-motorists involved in the ...</td>\n",
       "      <td>NUMBER</td>\n",
       "      <td>2.0</td>\n",
       "      <td>NaN</td>\n",
       "      <td>mean=0.14, min=0, max=6</td>\n",
       "      <td>0</td>\n",
       "      <td>0</td>\n",
       "    </tr>\n",
       "  </tbody>\n",
       "</table>\n",
       "</div>"
      ],
      "text/plain": [
       "                      column_name  \\\n",
       "40                       LATITUDE   \n",
       "41                   LN_CLOSE_DIR   \n",
       "42                  LOCATION_TYPE   \n",
       "43                      LONGITUDE   \n",
       "44             MAX_SEVERITY_LEVEL   \n",
       "45             MCYCLE_DEATH_COUNT   \n",
       "46  MCYCLE_SUSP_SERIOUS_INJ_COUNT   \n",
       "47               MOTORCYCLE_COUNT   \n",
       "48                   MUNICIPALITY   \n",
       "49                  NONMOTR_COUNT   \n",
       "\n",
       "                                          description    type  length  \\\n",
       "40                 GPS Latitude determined by PennDOT    TEXT    12.0   \n",
       "41            Direction of traffic in closed lane (s)    TEXT     1.0   \n",
       "42               Code that defines the crash location    TEXT     2.0   \n",
       "43  GPS Longitude determined by PennDOT (in negati...    TEXT    12.0   \n",
       "44                 Injury severity level of the crash    TEXT     1.0   \n",
       "45            Total amount of Motorcyclist fatalities  NUMBER     2.0   \n",
       "46  Total amount of Motorcyclist Suspected Serious...  NUMBER     2.0   \n",
       "47               Total amount of Motorcycles Involved  NUMBER     2.0   \n",
       "48                                  Municipality Code    TEXT     5.0   \n",
       "49  Total number of Non-motorists involved in the ...  NUMBER     2.0   \n",
       "\n",
       "              constraints                                            summary  \\\n",
       "40           DD MM:SS.ddd                   null, 40 00:16.847, 39 55:01.859   \n",
       "41        See Column Code                                 null, South, North   \n",
       "42        See Column Code    Not applicable, Driveway or Parking Lot, Bridge   \n",
       "43           DD MM:SS.ddd                   null, 75 09:07.652, 75 14:46.691   \n",
       "44        See Column Code  Suspected Minor injury, Not injured, Injury/ U...   \n",
       "45                    NaN                             mean=0.0, min=0, max=1   \n",
       "46                    NaN                            mean=0.01, min=0, max=3   \n",
       "47                    NaN                            mean=0.03, min=0, max=3   \n",
       "48  See Municipality Code                 mean=67301.0, min=67301, max=67301   \n",
       "49                    NaN                            mean=0.14, min=0, max=6   \n",
       "\n",
       "                   sample1                 sample2  \n",
       "40            40 01:17.161            39 58:36.055  \n",
       "41                     NaN                     NaN  \n",
       "42               Underpass          Not applicable  \n",
       "43            75 04:45.952            75 09:53.625  \n",
       "44  Suspected Minor injury  Suspected Minor injury  \n",
       "45                       0                       0  \n",
       "46                       0                       0  \n",
       "47                       0                       0  \n",
       "48                   67301                   67301  \n",
       "49                       0                       0  "
      ]
     },
     "execution_count": 229,
     "metadata": {},
     "output_type": "execute_result"
    }
   ],
   "source": [
    "df_crash_dict[40:50]"
   ]
  },
  {
   "cell_type": "code",
   "execution_count": null,
   "id": "50c75e90",
   "metadata": {},
   "outputs": [],
   "source": [
    "# no lane closure\n",
    "# 1st accident was under and underpass\n",
    "# minor injuries in both accidents\n",
    "# no motorcyles were involved in the crash.\n",
    "        #I still don't know what happened in crash 2 if there were not cars or motorcyles involved\n"
   ]
  },
  {
   "cell_type": "code",
   "execution_count": 230,
   "id": "6a8328b4",
   "metadata": {},
   "outputs": [
    {
     "data": {
      "text/html": [
       "<div>\n",
       "<style scoped>\n",
       "    .dataframe tbody tr th:only-of-type {\n",
       "        vertical-align: middle;\n",
       "    }\n",
       "\n",
       "    .dataframe tbody tr th {\n",
       "        vertical-align: top;\n",
       "    }\n",
       "\n",
       "    .dataframe thead th {\n",
       "        text-align: right;\n",
       "    }\n",
       "</style>\n",
       "<table border=\"1\" class=\"dataframe\">\n",
       "  <thead>\n",
       "    <tr style=\"text-align: right;\">\n",
       "      <th></th>\n",
       "      <th>column_name</th>\n",
       "      <th>description</th>\n",
       "      <th>type</th>\n",
       "      <th>length</th>\n",
       "      <th>constraints</th>\n",
       "      <th>summary</th>\n",
       "      <th>sample1</th>\n",
       "      <th>sample2</th>\n",
       "    </tr>\n",
       "  </thead>\n",
       "  <tbody>\n",
       "    <tr>\n",
       "      <th>50</th>\n",
       "      <td>NONMOTR_DEATH_COUNT</td>\n",
       "      <td>Total number of Non-motorists killed in the crash</td>\n",
       "      <td>NUMBER</td>\n",
       "      <td>2.0</td>\n",
       "      <td>NaN</td>\n",
       "      <td>mean=0.01, min=0, max=3</td>\n",
       "      <td>0</td>\n",
       "      <td>0</td>\n",
       "    </tr>\n",
       "    <tr>\n",
       "      <th>51</th>\n",
       "      <td>NONMOTR_SUSP_SERIOUS_INJ_COUNT</td>\n",
       "      <td>Total number of Non-motorists with suspected s...</td>\n",
       "      <td>NUMBER</td>\n",
       "      <td>2.0</td>\n",
       "      <td>NaN</td>\n",
       "      <td>mean=0.01, min=0, max=3</td>\n",
       "      <td>0</td>\n",
       "      <td>0</td>\n",
       "    </tr>\n",
       "    <tr>\n",
       "      <th>52</th>\n",
       "      <td>NTFY_HIWY_MAINT</td>\n",
       "      <td>PENNDOT highway maintenance notified?</td>\n",
       "      <td>TEXT</td>\n",
       "      <td>1.0</td>\n",
       "      <td>1=Y, 0 = N</td>\n",
       "      <td>N, Y</td>\n",
       "      <td>N</td>\n",
       "      <td>N</td>\n",
       "    </tr>\n",
       "    <tr>\n",
       "      <th>53</th>\n",
       "      <td>PED_COUNT</td>\n",
       "      <td>Total Pedestrians involved</td>\n",
       "      <td>NUMBER</td>\n",
       "      <td>2.0</td>\n",
       "      <td>NaN</td>\n",
       "      <td>mean=0.12, min=0, max=6</td>\n",
       "      <td>0</td>\n",
       "      <td>0</td>\n",
       "    </tr>\n",
       "    <tr>\n",
       "      <th>54</th>\n",
       "      <td>PED_DEATH_COUNT</td>\n",
       "      <td>Total Pedestrian fatalities</td>\n",
       "      <td>NUMBER</td>\n",
       "      <td>2.0</td>\n",
       "      <td>NaN</td>\n",
       "      <td>mean=0.0, min=0, max=3</td>\n",
       "      <td>0</td>\n",
       "      <td>0</td>\n",
       "    </tr>\n",
       "    <tr>\n",
       "      <th>55</th>\n",
       "      <td>PED_SUSP_SERIOUS_INJ_COUNT</td>\n",
       "      <td>Total Pedestrians with an Injury Severity of “...</td>\n",
       "      <td>NUMBER</td>\n",
       "      <td>2.0</td>\n",
       "      <td>NaN</td>\n",
       "      <td>mean=0.01, min=0, max=3</td>\n",
       "      <td>0</td>\n",
       "      <td>0</td>\n",
       "    </tr>\n",
       "    <tr>\n",
       "      <th>56</th>\n",
       "      <td>PERSON_COUNT</td>\n",
       "      <td>Total People involved</td>\n",
       "      <td>NUMBER</td>\n",
       "      <td>2.0</td>\n",
       "      <td>NaN</td>\n",
       "      <td>mean=2.37, min=0, max=28</td>\n",
       "      <td>3</td>\n",
       "      <td>2</td>\n",
       "    </tr>\n",
       "    <tr>\n",
       "      <th>57</th>\n",
       "      <td>POLICE_AGCY</td>\n",
       "      <td>Code of the Reporting Police Agency</td>\n",
       "      <td>TEXT</td>\n",
       "      <td>5.0</td>\n",
       "      <td>See Police Agency Code</td>\n",
       "      <td>67301, 68K01, 00000</td>\n",
       "      <td>00000</td>\n",
       "      <td>67301</td>\n",
       "    </tr>\n",
       "    <tr>\n",
       "      <th>58</th>\n",
       "      <td>POSSIBLE_INJ_COUNT</td>\n",
       "      <td>Total number of People with an injury severity...</td>\n",
       "      <td>NUMBER</td>\n",
       "      <td>2.0</td>\n",
       "      <td>NaN</td>\n",
       "      <td>mean=0.16, min=0, max=15</td>\n",
       "      <td>0</td>\n",
       "      <td>0</td>\n",
       "    </tr>\n",
       "    <tr>\n",
       "      <th>59</th>\n",
       "      <td>RDWY_SURF_TYPE_CD</td>\n",
       "      <td>Code for the Roadway surface type –only for fa...</td>\n",
       "      <td>TEXT</td>\n",
       "      <td>2.0</td>\n",
       "      <td>See Column Code</td>\n",
       "      <td>null, Blacktop, Concrete</td>\n",
       "      <td>NaN</td>\n",
       "      <td>NaN</td>\n",
       "    </tr>\n",
       "  </tbody>\n",
       "</table>\n",
       "</div>"
      ],
      "text/plain": [
       "                       column_name  \\\n",
       "50             NONMOTR_DEATH_COUNT   \n",
       "51  NONMOTR_SUSP_SERIOUS_INJ_COUNT   \n",
       "52                 NTFY_HIWY_MAINT   \n",
       "53                       PED_COUNT   \n",
       "54                 PED_DEATH_COUNT   \n",
       "55      PED_SUSP_SERIOUS_INJ_COUNT   \n",
       "56                    PERSON_COUNT   \n",
       "57                     POLICE_AGCY   \n",
       "58              POSSIBLE_INJ_COUNT   \n",
       "59               RDWY_SURF_TYPE_CD   \n",
       "\n",
       "                                          description    type  length  \\\n",
       "50  Total number of Non-motorists killed in the crash  NUMBER     2.0   \n",
       "51  Total number of Non-motorists with suspected s...  NUMBER     2.0   \n",
       "52              PENNDOT highway maintenance notified?    TEXT     1.0   \n",
       "53                         Total Pedestrians involved  NUMBER     2.0   \n",
       "54                        Total Pedestrian fatalities  NUMBER     2.0   \n",
       "55  Total Pedestrians with an Injury Severity of “...  NUMBER     2.0   \n",
       "56                              Total People involved  NUMBER     2.0   \n",
       "57                Code of the Reporting Police Agency    TEXT     5.0   \n",
       "58  Total number of People with an injury severity...  NUMBER     2.0   \n",
       "59  Code for the Roadway surface type –only for fa...    TEXT     2.0   \n",
       "\n",
       "               constraints                   summary sample1 sample2  \n",
       "50                     NaN   mean=0.01, min=0, max=3       0       0  \n",
       "51                     NaN   mean=0.01, min=0, max=3       0       0  \n",
       "52              1=Y, 0 = N                      N, Y       N       N  \n",
       "53                     NaN   mean=0.12, min=0, max=6       0       0  \n",
       "54                     NaN    mean=0.0, min=0, max=3       0       0  \n",
       "55                     NaN   mean=0.01, min=0, max=3       0       0  \n",
       "56                     NaN  mean=2.37, min=0, max=28       3       2  \n",
       "57  See Police Agency Code       67301, 68K01, 00000   00000   67301  \n",
       "58                     NaN  mean=0.16, min=0, max=15       0       0  \n",
       "59         See Column Code  null, Blacktop, Concrete     NaN     NaN  "
      ]
     },
     "execution_count": 230,
     "metadata": {},
     "output_type": "execute_result"
    }
   ],
   "source": [
    "df_crash_dict[50:60]"
   ]
  },
  {
   "cell_type": "code",
   "execution_count": 235,
   "id": "8db84b95",
   "metadata": {},
   "outputs": [],
   "source": [
    "# no non-motorists or pedestrians were involved\n",
    "# hiway maintenance was not notified\n",
    "# 3 people were involved in the first crash and 2 in the second\n",
    "# Surface type is null"
   ]
  },
  {
   "cell_type": "code",
   "execution_count": 234,
   "id": "f2364a32",
   "metadata": {},
   "outputs": [
    {
     "data": {
      "text/plain": [
       "67301    36066\n",
       "68K01     9255\n",
       "00000     1382\n",
       "67505      748\n",
       "67501      527\n",
       "67508      495\n",
       "67504      342\n",
       "67507      234\n",
       "46104       63\n",
       "68K02       24\n",
       "46102       19\n",
       "68Z99       19\n",
       "68T07       17\n",
       "68M03       10\n",
       "68K03        9\n",
       "67509        7\n",
       "46108        6\n",
       "39301        3\n",
       "37301        2\n",
       "62301        2\n",
       "67506        1\n",
       "51601        1\n",
       "23109        1\n",
       "46101        1\n",
       "68M05        1\n",
       "Name: POLICE_AGCY, dtype: int64"
      ]
     },
     "execution_count": 234,
     "metadata": {},
     "output_type": "execute_result"
    }
   ],
   "source": [
    "# these are different police departments in the city\n",
    "# 00000 is not mentioned in the data dictionary.\n",
    "# I don't believe this will be an important data point in my analysis so I will not decode these values\n",
    "df_crash.POLICE_AGCY.value_counts()"
   ]
  },
  {
   "cell_type": "code",
   "execution_count": 236,
   "id": "8b24dd89",
   "metadata": {},
   "outputs": [
    {
     "data": {
      "text/html": [
       "<div>\n",
       "<style scoped>\n",
       "    .dataframe tbody tr th:only-of-type {\n",
       "        vertical-align: middle;\n",
       "    }\n",
       "\n",
       "    .dataframe tbody tr th {\n",
       "        vertical-align: top;\n",
       "    }\n",
       "\n",
       "    .dataframe thead th {\n",
       "        text-align: right;\n",
       "    }\n",
       "</style>\n",
       "<table border=\"1\" class=\"dataframe\">\n",
       "  <thead>\n",
       "    <tr style=\"text-align: right;\">\n",
       "      <th></th>\n",
       "      <th>column_name</th>\n",
       "      <th>description</th>\n",
       "      <th>type</th>\n",
       "      <th>length</th>\n",
       "      <th>constraints</th>\n",
       "      <th>summary</th>\n",
       "      <th>sample1</th>\n",
       "      <th>sample2</th>\n",
       "    </tr>\n",
       "  </thead>\n",
       "  <tbody>\n",
       "    <tr>\n",
       "      <th>60</th>\n",
       "      <td>RELATION_TO_ROAD</td>\n",
       "      <td>Code for the crash’s relativity to the road</td>\n",
       "      <td>TEXT</td>\n",
       "      <td>2.0</td>\n",
       "      <td>See Column Code</td>\n",
       "      <td>On roadway, In parking lane, Roadside (off tra...</td>\n",
       "      <td>On roadway</td>\n",
       "      <td>On roadway</td>\n",
       "    </tr>\n",
       "    <tr>\n",
       "      <th>61</th>\n",
       "      <td>ROAD_CONDITION</td>\n",
       "      <td>Roadway Surface Condition Code</td>\n",
       "      <td>TEXT</td>\n",
       "      <td>1.0</td>\n",
       "      <td>See Column Code</td>\n",
       "      <td>Dry, Wet, Unknown</td>\n",
       "      <td>Dry</td>\n",
       "      <td>Wet</td>\n",
       "    </tr>\n",
       "    <tr>\n",
       "      <th>62</th>\n",
       "      <td>ROADWAY_CLEARED</td>\n",
       "      <td>Time the roadway was opened to traffic</td>\n",
       "      <td>TEXT</td>\n",
       "      <td>4.0</td>\n",
       "      <td>0000-2359 or 9999</td>\n",
       "      <td>mean=1163.68, min=0.0, max=9999.0</td>\n",
       "      <td>NaN</td>\n",
       "      <td>NaN</td>\n",
       "    </tr>\n",
       "    <tr>\n",
       "      <th>63</th>\n",
       "      <td>SCH_BUS_IND</td>\n",
       "      <td>Did the crash involve a School Bus? (Y/N)</td>\n",
       "      <td>TEXT</td>\n",
       "      <td>1.0</td>\n",
       "      <td>Y = Yes N = No</td>\n",
       "      <td>N, null, Y</td>\n",
       "      <td>N</td>\n",
       "      <td>N</td>\n",
       "    </tr>\n",
       "    <tr>\n",
       "      <th>64</th>\n",
       "      <td>SCH_ZONE_IND</td>\n",
       "      <td>Did the crash occur in a School Zone? (Y/N)</td>\n",
       "      <td>TEXT</td>\n",
       "      <td>1.0</td>\n",
       "      <td>Y = Yes N = No</td>\n",
       "      <td>N, null, Y</td>\n",
       "      <td>N</td>\n",
       "      <td>N</td>\n",
       "    </tr>\n",
       "    <tr>\n",
       "      <th>65</th>\n",
       "      <td>SECONDARY_CRASH</td>\n",
       "      <td>Was this crash caused at least in part to a pr...</td>\n",
       "      <td>TEXT</td>\n",
       "      <td>1.0</td>\n",
       "      <td>Y = Yes N = No</td>\n",
       "      <td>N, null, Y</td>\n",
       "      <td>N</td>\n",
       "      <td>N</td>\n",
       "    </tr>\n",
       "    <tr>\n",
       "      <th>66</th>\n",
       "      <td>SMALL_TRUCK_COUNT</td>\n",
       "      <td>Total amount of Small Trucks involved</td>\n",
       "      <td>NUMBER</td>\n",
       "      <td>2.0</td>\n",
       "      <td>NaN</td>\n",
       "      <td>mean=0.1, min=0, max=4</td>\n",
       "      <td>0</td>\n",
       "      <td>0</td>\n",
       "    </tr>\n",
       "    <tr>\n",
       "      <th>67</th>\n",
       "      <td>SPEC_JURIS_CD</td>\n",
       "      <td>\\nCode that defines any special jurisdiction –...</td>\n",
       "      <td>TEXT</td>\n",
       "      <td>1.0</td>\n",
       "      <td>See Column Code</td>\n",
       "      <td>null, No Special Jurisdiction, Other</td>\n",
       "      <td>NaN</td>\n",
       "      <td>NaN</td>\n",
       "    </tr>\n",
       "    <tr>\n",
       "      <th>68</th>\n",
       "      <td>SUSP_MINOR_INJ_COUNT</td>\n",
       "      <td>Total number of People with an injury severity...</td>\n",
       "      <td>NUMBER</td>\n",
       "      <td>2.0</td>\n",
       "      <td>NaN</td>\n",
       "      <td>mean=0.45, min=0, max=10</td>\n",
       "      <td>1</td>\n",
       "      <td>1</td>\n",
       "    </tr>\n",
       "    <tr>\n",
       "      <th>69</th>\n",
       "      <td>SUSP_SERIOUS_INJ_COUNT</td>\n",
       "      <td>Total number of People with an injury</td>\n",
       "      <td>NUMBER</td>\n",
       "      <td>2.0</td>\n",
       "      <td>NaN</td>\n",
       "      <td>mean=0.05, min=0, max=11</td>\n",
       "      <td>0</td>\n",
       "      <td>0</td>\n",
       "    </tr>\n",
       "  </tbody>\n",
       "</table>\n",
       "</div>"
      ],
      "text/plain": [
       "               column_name                                        description  \\\n",
       "60        RELATION_TO_ROAD        Code for the crash’s relativity to the road   \n",
       "61          ROAD_CONDITION                     Roadway Surface Condition Code   \n",
       "62         ROADWAY_CLEARED             Time the roadway was opened to traffic   \n",
       "63             SCH_BUS_IND          Did the crash involve a School Bus? (Y/N)   \n",
       "64            SCH_ZONE_IND        Did the crash occur in a School Zone? (Y/N)   \n",
       "65         SECONDARY_CRASH  Was this crash caused at least in part to a pr...   \n",
       "66       SMALL_TRUCK_COUNT              Total amount of Small Trucks involved   \n",
       "67           SPEC_JURIS_CD  \\nCode that defines any special jurisdiction –...   \n",
       "68    SUSP_MINOR_INJ_COUNT  Total number of People with an injury severity...   \n",
       "69  SUSP_SERIOUS_INJ_COUNT              Total number of People with an injury   \n",
       "\n",
       "      type  length        constraints  \\\n",
       "60    TEXT     2.0    See Column Code   \n",
       "61    TEXT     1.0    See Column Code   \n",
       "62    TEXT     4.0  0000-2359 or 9999   \n",
       "63    TEXT     1.0     Y = Yes N = No   \n",
       "64    TEXT     1.0     Y = Yes N = No   \n",
       "65    TEXT     1.0     Y = Yes N = No   \n",
       "66  NUMBER     2.0                NaN   \n",
       "67    TEXT     1.0    See Column Code   \n",
       "68  NUMBER     2.0                NaN   \n",
       "69  NUMBER     2.0                NaN   \n",
       "\n",
       "                                              summary     sample1     sample2  \n",
       "60  On roadway, In parking lane, Roadside (off tra...  On roadway  On roadway  \n",
       "61                                  Dry, Wet, Unknown         Dry         Wet  \n",
       "62                  mean=1163.68, min=0.0, max=9999.0         NaN         NaN  \n",
       "63                                         N, null, Y           N           N  \n",
       "64                                         N, null, Y           N           N  \n",
       "65                                         N, null, Y           N           N  \n",
       "66                             mean=0.1, min=0, max=4           0           0  \n",
       "67               null, No Special Jurisdiction, Other         NaN         NaN  \n",
       "68                           mean=0.45, min=0, max=10           1           1  \n",
       "69                           mean=0.05, min=0, max=11           0           0  "
      ]
     },
     "execution_count": 236,
     "metadata": {},
     "output_type": "execute_result"
    }
   ],
   "source": [
    "df_crash_dict[60:70]"
   ]
  },
  {
   "cell_type": "code",
   "execution_count": 237,
   "id": "e282bea7",
   "metadata": {},
   "outputs": [],
   "source": [
    "# both crashes occurred on the roadway\n",
    "# the first in dry weather, the second in wet\n",
    "# no school bus or school zone involved\n",
    "# no small trucks involved\n",
    "# 1 suspected minor injury in each crash and no serious injuries"
   ]
  },
  {
   "cell_type": "code",
   "execution_count": 238,
   "id": "902540c6",
   "metadata": {},
   "outputs": [
    {
     "data": {
      "text/html": [
       "<div>\n",
       "<style scoped>\n",
       "    .dataframe tbody tr th:only-of-type {\n",
       "        vertical-align: middle;\n",
       "    }\n",
       "\n",
       "    .dataframe tbody tr th {\n",
       "        vertical-align: top;\n",
       "    }\n",
       "\n",
       "    .dataframe thead th {\n",
       "        text-align: right;\n",
       "    }\n",
       "</style>\n",
       "<table border=\"1\" class=\"dataframe\">\n",
       "  <thead>\n",
       "    <tr style=\"text-align: right;\">\n",
       "      <th></th>\n",
       "      <th>column_name</th>\n",
       "      <th>description</th>\n",
       "      <th>type</th>\n",
       "      <th>length</th>\n",
       "      <th>constraints</th>\n",
       "      <th>summary</th>\n",
       "      <th>sample1</th>\n",
       "      <th>sample2</th>\n",
       "    </tr>\n",
       "  </thead>\n",
       "  <tbody>\n",
       "    <tr>\n",
       "      <th>70</th>\n",
       "      <td>SUV_COUNT</td>\n",
       "      <td>Total count of sport utility vehicles involved...</td>\n",
       "      <td>NUMBER</td>\n",
       "      <td>2.0</td>\n",
       "      <td>NaN</td>\n",
       "      <td>mean=0.61, min=0, max=6</td>\n",
       "      <td>0</td>\n",
       "      <td>2</td>\n",
       "    </tr>\n",
       "    <tr>\n",
       "      <th>71</th>\n",
       "      <td>TCD_FUNC_CD</td>\n",
       "      <td>Code for Traffic Control Device state</td>\n",
       "      <td>TEXT</td>\n",
       "      <td>2.0</td>\n",
       "      <td>See Column Code</td>\n",
       "      <td>No Controls, Device Functioning properly, Unknown</td>\n",
       "      <td>No Controls</td>\n",
       "      <td>Device Functioning properly</td>\n",
       "    </tr>\n",
       "    <tr>\n",
       "      <th>72</th>\n",
       "      <td>TCD_TYPE</td>\n",
       "      <td>Code that defines the Traffic Control Device</td>\n",
       "      <td>TEXT</td>\n",
       "      <td>1.0</td>\n",
       "      <td>See Column Code</td>\n",
       "      <td>Not applicable, Traffic signal, Stop sign</td>\n",
       "      <td>Not applicable</td>\n",
       "      <td>Flashing traffic signal</td>\n",
       "    </tr>\n",
       "    <tr>\n",
       "      <th>73</th>\n",
       "      <td>TFC_DETOUR_IND</td>\n",
       "      <td>Was Traffic Detoured? (Y/N)</td>\n",
       "      <td>TEXT</td>\n",
       "      <td>1.0</td>\n",
       "      <td>1=Y, 0 = N</td>\n",
       "      <td>null, N, Y</td>\n",
       "      <td>NaN</td>\n",
       "      <td>NaN</td>\n",
       "    </tr>\n",
       "    <tr>\n",
       "      <th>74</th>\n",
       "      <td>TIME_OF_DAY</td>\n",
       "      <td>The Time of Day When the Crash Occurred</td>\n",
       "      <td>TEXT</td>\n",
       "      <td>4.0</td>\n",
       "      <td>0000 through 2359</td>\n",
       "      <td>mean=1301.79, min=0.0, max=9999.0</td>\n",
       "      <td>820.0</td>\n",
       "      <td>1715.0</td>\n",
       "    </tr>\n",
       "    <tr>\n",
       "      <th>75</th>\n",
       "      <td>TOT_INJ_COUNT</td>\n",
       "      <td>injuries.\\ninvolved in this crash. Does not in...</td>\n",
       "      <td>NUMBER</td>\n",
       "      <td>2.0</td>\n",
       "      <td>NaN</td>\n",
       "      <td>mean=0.9, min=0, max=25</td>\n",
       "      <td>1</td>\n",
       "      <td>1</td>\n",
       "    </tr>\n",
       "    <tr>\n",
       "      <th>76</th>\n",
       "      <td>TOTAL_UNITS</td>\n",
       "      <td>Total count of all Vehicles and Pedestrians</td>\n",
       "      <td>NUMBER</td>\n",
       "      <td>2.0</td>\n",
       "      <td>NaN</td>\n",
       "      <td>mean=2.18, min=1, max=18</td>\n",
       "      <td>2</td>\n",
       "      <td>2</td>\n",
       "    </tr>\n",
       "    <tr>\n",
       "      <th>77</th>\n",
       "      <td>UNB_DEATH_COUNT</td>\n",
       "      <td>No. of people killed not wearing a seatbelt</td>\n",
       "      <td>NUMBER</td>\n",
       "      <td>2.0</td>\n",
       "      <td>NaN</td>\n",
       "      <td>mean=0.0, min=0, max=4</td>\n",
       "      <td>0</td>\n",
       "      <td>0</td>\n",
       "    </tr>\n",
       "    <tr>\n",
       "      <th>78</th>\n",
       "      <td>UNB_SUSP_SERIOUS_INJ_COUNT</td>\n",
       "      <td>Serious Injuries\\nTotal # of unbelted sustaini...</td>\n",
       "      <td>NUMBER</td>\n",
       "      <td>2.0</td>\n",
       "      <td>NaN</td>\n",
       "      <td>mean=0.0, min=0, max=8</td>\n",
       "      <td>0</td>\n",
       "      <td>0</td>\n",
       "    </tr>\n",
       "    <tr>\n",
       "      <th>79</th>\n",
       "      <td>UNBELTED_OCC_COUNT</td>\n",
       "      <td>Total count of all unbelted occupants</td>\n",
       "      <td>NUMBER</td>\n",
       "      <td>2.0</td>\n",
       "      <td>NaN</td>\n",
       "      <td>mean=0.24, min=0, max=12</td>\n",
       "      <td>0</td>\n",
       "      <td>1</td>\n",
       "    </tr>\n",
       "  </tbody>\n",
       "</table>\n",
       "</div>"
      ],
      "text/plain": [
       "                   column_name  \\\n",
       "70                   SUV_COUNT   \n",
       "71                 TCD_FUNC_CD   \n",
       "72                    TCD_TYPE   \n",
       "73              TFC_DETOUR_IND   \n",
       "74                 TIME_OF_DAY   \n",
       "75               TOT_INJ_COUNT   \n",
       "76                 TOTAL_UNITS   \n",
       "77             UNB_DEATH_COUNT   \n",
       "78  UNB_SUSP_SERIOUS_INJ_COUNT   \n",
       "79          UNBELTED_OCC_COUNT   \n",
       "\n",
       "                                          description    type  length  \\\n",
       "70  Total count of sport utility vehicles involved...  NUMBER     2.0   \n",
       "71              Code for Traffic Control Device state    TEXT     2.0   \n",
       "72       Code that defines the Traffic Control Device    TEXT     1.0   \n",
       "73                        Was Traffic Detoured? (Y/N)    TEXT     1.0   \n",
       "74            The Time of Day When the Crash Occurred    TEXT     4.0   \n",
       "75  injuries.\\ninvolved in this crash. Does not in...  NUMBER     2.0   \n",
       "76        Total count of all Vehicles and Pedestrians  NUMBER     2.0   \n",
       "77        No. of people killed not wearing a seatbelt  NUMBER     2.0   \n",
       "78  Serious Injuries\\nTotal # of unbelted sustaini...  NUMBER     2.0   \n",
       "79              Total count of all unbelted occupants  NUMBER     2.0   \n",
       "\n",
       "          constraints                                            summary  \\\n",
       "70                NaN                            mean=0.61, min=0, max=6   \n",
       "71    See Column Code  No Controls, Device Functioning properly, Unknown   \n",
       "72    See Column Code          Not applicable, Traffic signal, Stop sign   \n",
       "73         1=Y, 0 = N                                         null, N, Y   \n",
       "74  0000 through 2359                  mean=1301.79, min=0.0, max=9999.0   \n",
       "75                NaN                            mean=0.9, min=0, max=25   \n",
       "76                NaN                           mean=2.18, min=1, max=18   \n",
       "77                NaN                             mean=0.0, min=0, max=4   \n",
       "78                NaN                             mean=0.0, min=0, max=8   \n",
       "79                NaN                           mean=0.24, min=0, max=12   \n",
       "\n",
       "           sample1                      sample2  \n",
       "70               0                            2  \n",
       "71     No Controls  Device Functioning properly  \n",
       "72  Not applicable      Flashing traffic signal  \n",
       "73             NaN                          NaN  \n",
       "74           820.0                       1715.0  \n",
       "75               1                            1  \n",
       "76               2                            2  \n",
       "77               0                            0  \n",
       "78               0                            0  \n",
       "79               0                            1  "
      ]
     },
     "execution_count": 238,
     "metadata": {},
     "output_type": "execute_result"
    }
   ],
   "source": [
    "df_crash_dict[70:80]"
   ]
  },
  {
   "cell_type": "code",
   "execution_count": null,
   "id": "62d120b8",
   "metadata": {},
   "outputs": [],
   "source": [
    "# 2 SUVs were involved in the first crash.\n",
    "        # That solves the mystery of what types of vehicle were involved in the 2nd crash\n",
    "# I am not sure what TCD_FUNC_CD means.  I will need to look into this more\n",
    "# the first event had no traffic control device (stop sign, traffic signal, yield sign, etc).\n",
    "        # the second had a Flashing traffic signal\n",
    "# the first accident occurred at 8:20AM and the second occurred at 5:15PM\n",
    "# one occupant was unbelted"
   ]
  },
  {
   "cell_type": "code",
   "execution_count": 239,
   "id": "d934e307",
   "metadata": {},
   "outputs": [
    {
     "data": {
      "text/plain": [
       "Not applicable                  26414\n",
       "Traffic signal                  15797\n",
       "Stop sign                        5642\n",
       "Other Type TCD                    529\n",
       "Flashing traffic signal           393\n",
       "Unknown                           282\n",
       "Yield sign                        121\n",
       "Police officer or flagman          38\n",
       "Active RR crossing controls        13\n",
       "Passive RR crossing controls        6\n",
       "Name: TCD_TYPE, dtype: int64"
      ]
     },
     "execution_count": 239,
     "metadata": {},
     "output_type": "execute_result"
    }
   ],
   "source": [
    "df_crash.TCD_TYPE.value_counts()"
   ]
  },
  {
   "cell_type": "code",
   "execution_count": 240,
   "id": "a1df3ff7",
   "metadata": {},
   "outputs": [
    {
     "data": {
      "text/html": [
       "<div>\n",
       "<style scoped>\n",
       "    .dataframe tbody tr th:only-of-type {\n",
       "        vertical-align: middle;\n",
       "    }\n",
       "\n",
       "    .dataframe tbody tr th {\n",
       "        vertical-align: top;\n",
       "    }\n",
       "\n",
       "    .dataframe thead th {\n",
       "        text-align: right;\n",
       "    }\n",
       "</style>\n",
       "<table border=\"1\" class=\"dataframe\">\n",
       "  <thead>\n",
       "    <tr style=\"text-align: right;\">\n",
       "      <th></th>\n",
       "      <th>column_name</th>\n",
       "      <th>description</th>\n",
       "      <th>type</th>\n",
       "      <th>length</th>\n",
       "      <th>constraints</th>\n",
       "      <th>summary</th>\n",
       "      <th>sample1</th>\n",
       "      <th>sample2</th>\n",
       "    </tr>\n",
       "  </thead>\n",
       "  <tbody>\n",
       "    <tr>\n",
       "      <th>80</th>\n",
       "      <td>UNK_INJ_DEG_COUNT</td>\n",
       "      <td>No. of injuries with unknown severity</td>\n",
       "      <td>NUMBER</td>\n",
       "      <td>2.0</td>\n",
       "      <td>NaN</td>\n",
       "      <td>mean=0.24, min=0, max=23</td>\n",
       "      <td>0</td>\n",
       "      <td>0</td>\n",
       "    </tr>\n",
       "    <tr>\n",
       "      <th>81</th>\n",
       "      <td>UNK_INJ_PER_COUNT</td>\n",
       "      <td>No. of people that are unknown if injured</td>\n",
       "      <td>NUMBER</td>\n",
       "      <td>2.0</td>\n",
       "      <td>NaN</td>\n",
       "      <td>mean=0.18, min=0, max=8</td>\n",
       "      <td>0</td>\n",
       "      <td>0</td>\n",
       "    </tr>\n",
       "    <tr>\n",
       "      <th>82</th>\n",
       "      <td>URBAN_RURAL</td>\n",
       "      <td>Code to classify crash as Urban or Rural</td>\n",
       "      <td>TEXT</td>\n",
       "      <td>1.0</td>\n",
       "      <td>1= Rural, 2=Urbanized,\\n3=Urban</td>\n",
       "      <td>mean=2.0, min=1, max=2</td>\n",
       "      <td>2</td>\n",
       "      <td>2</td>\n",
       "    </tr>\n",
       "    <tr>\n",
       "      <th>83</th>\n",
       "      <td>VAN_COUNT</td>\n",
       "      <td>Total amount of vans involved</td>\n",
       "      <td>NUMBER</td>\n",
       "      <td>2.0</td>\n",
       "      <td>NaN</td>\n",
       "      <td>mean=0.1, min=0, max=4</td>\n",
       "      <td>0</td>\n",
       "      <td>0</td>\n",
       "    </tr>\n",
       "    <tr>\n",
       "      <th>84</th>\n",
       "      <td>VEHICLE_COUNT</td>\n",
       "      <td>Total number of all motor vehicles involved in...</td>\n",
       "      <td>NUMBER</td>\n",
       "      <td>2.0</td>\n",
       "      <td>NaN</td>\n",
       "      <td>mean=2.03, min=0, max=18</td>\n",
       "      <td>2</td>\n",
       "      <td>2</td>\n",
       "    </tr>\n",
       "    <tr>\n",
       "      <th>85</th>\n",
       "      <td>WEATHER1</td>\n",
       "      <td>Code for the first weather condition at time o...</td>\n",
       "      <td>TEXT</td>\n",
       "      <td>2.0</td>\n",
       "      <td>See Column Code</td>\n",
       "      <td>Clear, Rain, Cloudy</td>\n",
       "      <td>Clear</td>\n",
       "      <td>Rain</td>\n",
       "    </tr>\n",
       "    <tr>\n",
       "      <th>86</th>\n",
       "      <td>WEATHER2</td>\n",
       "      <td>Code for the second weather condition at time ...</td>\n",
       "      <td>TEXT</td>\n",
       "      <td>2.0</td>\n",
       "      <td>See Column Code</td>\n",
       "      <td>null, Clear, Rain</td>\n",
       "      <td>NaN</td>\n",
       "      <td>Rain</td>\n",
       "    </tr>\n",
       "    <tr>\n",
       "      <th>87</th>\n",
       "      <td>WORK_ZONE_IND</td>\n",
       "      <td>Did the crash occur in a work zone</td>\n",
       "      <td>TEXT</td>\n",
       "      <td>1.0</td>\n",
       "      <td>1=Y, 0 = N</td>\n",
       "      <td>N, Y</td>\n",
       "      <td>N</td>\n",
       "      <td>N</td>\n",
       "    </tr>\n",
       "    <tr>\n",
       "      <th>88</th>\n",
       "      <td>WORK_ZONE_LOC</td>\n",
       "      <td>The Work Zone Location Code</td>\n",
       "      <td>TEXT</td>\n",
       "      <td>1.0</td>\n",
       "      <td>See Column Code</td>\n",
       "      <td>null, Activity area, Advance warning area</td>\n",
       "      <td>NaN</td>\n",
       "      <td>NaN</td>\n",
       "    </tr>\n",
       "    <tr>\n",
       "      <th>89</th>\n",
       "      <td>WORK_ZONE_TYPE</td>\n",
       "      <td>Code to define the type of Work Zone</td>\n",
       "      <td>TEXT</td>\n",
       "      <td>1.0</td>\n",
       "      <td>See Column Code</td>\n",
       "      <td>null, Construction, Maintenance</td>\n",
       "      <td>NaN</td>\n",
       "      <td>NaN</td>\n",
       "    </tr>\n",
       "  </tbody>\n",
       "</table>\n",
       "</div>"
      ],
      "text/plain": [
       "          column_name                                        description  \\\n",
       "80  UNK_INJ_DEG_COUNT              No. of injuries with unknown severity   \n",
       "81  UNK_INJ_PER_COUNT          No. of people that are unknown if injured   \n",
       "82        URBAN_RURAL           Code to classify crash as Urban or Rural   \n",
       "83          VAN_COUNT                      Total amount of vans involved   \n",
       "84      VEHICLE_COUNT  Total number of all motor vehicles involved in...   \n",
       "85           WEATHER1  Code for the first weather condition at time o...   \n",
       "86           WEATHER2  Code for the second weather condition at time ...   \n",
       "87      WORK_ZONE_IND                 Did the crash occur in a work zone   \n",
       "88      WORK_ZONE_LOC                        The Work Zone Location Code   \n",
       "89     WORK_ZONE_TYPE               Code to define the type of Work Zone   \n",
       "\n",
       "      type  length                      constraints  \\\n",
       "80  NUMBER     2.0                              NaN   \n",
       "81  NUMBER     2.0                              NaN   \n",
       "82    TEXT     1.0  1= Rural, 2=Urbanized,\\n3=Urban   \n",
       "83  NUMBER     2.0                              NaN   \n",
       "84  NUMBER     2.0                              NaN   \n",
       "85    TEXT     2.0                  See Column Code   \n",
       "86    TEXT     2.0                  See Column Code   \n",
       "87    TEXT     1.0                       1=Y, 0 = N   \n",
       "88    TEXT     1.0                  See Column Code   \n",
       "89    TEXT     1.0                  See Column Code   \n",
       "\n",
       "                                      summary sample1 sample2  \n",
       "80                   mean=0.24, min=0, max=23       0       0  \n",
       "81                    mean=0.18, min=0, max=8       0       0  \n",
       "82                     mean=2.0, min=1, max=2       2       2  \n",
       "83                     mean=0.1, min=0, max=4       0       0  \n",
       "84                   mean=2.03, min=0, max=18       2       2  \n",
       "85                        Clear, Rain, Cloudy   Clear    Rain  \n",
       "86                          null, Clear, Rain     NaN    Rain  \n",
       "87                                       N, Y       N       N  \n",
       "88  null, Activity area, Advance warning area     NaN     NaN  \n",
       "89            null, Construction, Maintenance     NaN     NaN  "
      ]
     },
     "execution_count": 240,
     "metadata": {},
     "output_type": "execute_result"
    }
   ],
   "source": [
    "df_crash_dict[80:90]"
   ]
  },
  {
   "cell_type": "code",
   "execution_count": null,
   "id": "89cfeb2e",
   "metadata": {},
   "outputs": [],
   "source": [
    "# both crashes occured in urbanized areas\n",
    "# crash 1 occurred in clear weather and crash 2 occurred in the rain\n",
    "# no work zone"
   ]
  },
  {
   "cell_type": "code",
   "execution_count": 241,
   "id": "091a6db3",
   "metadata": {},
   "outputs": [
    {
     "data": {
      "text/html": [
       "<div>\n",
       "<style scoped>\n",
       "    .dataframe tbody tr th:only-of-type {\n",
       "        vertical-align: middle;\n",
       "    }\n",
       "\n",
       "    .dataframe tbody tr th {\n",
       "        vertical-align: top;\n",
       "    }\n",
       "\n",
       "    .dataframe thead th {\n",
       "        text-align: right;\n",
       "    }\n",
       "</style>\n",
       "<table border=\"1\" class=\"dataframe\">\n",
       "  <thead>\n",
       "    <tr style=\"text-align: right;\">\n",
       "      <th></th>\n",
       "      <th>column_name</th>\n",
       "      <th>description</th>\n",
       "      <th>type</th>\n",
       "      <th>length</th>\n",
       "      <th>constraints</th>\n",
       "      <th>summary</th>\n",
       "      <th>sample1</th>\n",
       "      <th>sample2</th>\n",
       "    </tr>\n",
       "  </thead>\n",
       "  <tbody>\n",
       "    <tr>\n",
       "      <th>90</th>\n",
       "      <td>WORKERS_PRES</td>\n",
       "      <td>Were construction personnel present?</td>\n",
       "      <td>TEXT</td>\n",
       "      <td>1.0</td>\n",
       "      <td>1=Y, 0 = N</td>\n",
       "      <td>null, N, Y</td>\n",
       "      <td>NaN</td>\n",
       "      <td>NaN</td>\n",
       "    </tr>\n",
       "    <tr>\n",
       "      <th>91</th>\n",
       "      <td>WZ_CLOSE_DETOUR</td>\n",
       "      <td>Was traffic rerouted due to work zone?</td>\n",
       "      <td>TEXT</td>\n",
       "      <td>1.0</td>\n",
       "      <td>1=Y, 0 = N</td>\n",
       "      <td>null, N, Y</td>\n",
       "      <td>NaN</td>\n",
       "      <td>NaN</td>\n",
       "    </tr>\n",
       "    <tr>\n",
       "      <th>92</th>\n",
       "      <td>WZ_FLAGGER</td>\n",
       "      <td>Did Work zone have a flagman?</td>\n",
       "      <td>TEXT</td>\n",
       "      <td>1.0</td>\n",
       "      <td>1=Y, 0 = N</td>\n",
       "      <td>null, N, Y</td>\n",
       "      <td>NaN</td>\n",
       "      <td>NaN</td>\n",
       "    </tr>\n",
       "    <tr>\n",
       "      <th>93</th>\n",
       "      <td>WZ_LAW_OFFCR_IND</td>\n",
       "      <td>Did Work zone have a patrolman?</td>\n",
       "      <td>TEXT</td>\n",
       "      <td>1.0</td>\n",
       "      <td>1=Y, 0 = N</td>\n",
       "      <td>null, N, Y</td>\n",
       "      <td>NaN</td>\n",
       "      <td>NaN</td>\n",
       "    </tr>\n",
       "    <tr>\n",
       "      <th>94</th>\n",
       "      <td>WZ_LN_CLOSURE</td>\n",
       "      <td>Did Work zone have a lane closure?</td>\n",
       "      <td>TEXT</td>\n",
       "      <td>1.0</td>\n",
       "      <td>1=Y, 0 = N</td>\n",
       "      <td>null, Y, N</td>\n",
       "      <td>NaN</td>\n",
       "      <td>NaN</td>\n",
       "    </tr>\n",
       "    <tr>\n",
       "      <th>95</th>\n",
       "      <td>WZ_MOVING</td>\n",
       "      <td>Was there moving work in the zone?</td>\n",
       "      <td>TEXT</td>\n",
       "      <td>1.0</td>\n",
       "      <td>1=Y, 0 = N</td>\n",
       "      <td>null, N, Y</td>\n",
       "      <td>NaN</td>\n",
       "      <td>NaN</td>\n",
       "    </tr>\n",
       "    <tr>\n",
       "      <th>96</th>\n",
       "      <td>WZ_OTHER</td>\n",
       "      <td>Was this a special type of work zone?</td>\n",
       "      <td>TEXT</td>\n",
       "      <td>1.0</td>\n",
       "      <td>1=Y, 0 = N</td>\n",
       "      <td>null, N, Y</td>\n",
       "      <td>NaN</td>\n",
       "      <td>NaN</td>\n",
       "    </tr>\n",
       "    <tr>\n",
       "      <th>97</th>\n",
       "      <td>WZ_SHLDER_MDN</td>\n",
       "      <td>Was a median/shoulder in the zone?</td>\n",
       "      <td>TEXT</td>\n",
       "      <td>1.0</td>\n",
       "      <td>1=Y, 0 = N</td>\n",
       "      <td>null, Y, N</td>\n",
       "      <td>NaN</td>\n",
       "      <td>NaN</td>\n",
       "    </tr>\n",
       "    <tr>\n",
       "      <th>98</th>\n",
       "      <td>WZ_WORKERS_INJ_KILLED</td>\n",
       "      <td>Were any Work Zone workers injured or killed a...</td>\n",
       "      <td>TEXT</td>\n",
       "      <td>1.0</td>\n",
       "      <td>1=Y, 0 = N</td>\n",
       "      <td>null, N, Y</td>\n",
       "      <td>NaN</td>\n",
       "      <td>NaN</td>\n",
       "    </tr>\n",
       "  </tbody>\n",
       "</table>\n",
       "</div>"
      ],
      "text/plain": [
       "              column_name                                        description  \\\n",
       "90           WORKERS_PRES               Were construction personnel present?   \n",
       "91        WZ_CLOSE_DETOUR             Was traffic rerouted due to work zone?   \n",
       "92             WZ_FLAGGER                      Did Work zone have a flagman?   \n",
       "93       WZ_LAW_OFFCR_IND                    Did Work zone have a patrolman?   \n",
       "94          WZ_LN_CLOSURE                 Did Work zone have a lane closure?   \n",
       "95              WZ_MOVING                 Was there moving work in the zone?   \n",
       "96               WZ_OTHER              Was this a special type of work zone?   \n",
       "97          WZ_SHLDER_MDN                 Was a median/shoulder in the zone?   \n",
       "98  WZ_WORKERS_INJ_KILLED  Were any Work Zone workers injured or killed a...   \n",
       "\n",
       "    type  length constraints     summary sample1 sample2  \n",
       "90  TEXT     1.0  1=Y, 0 = N  null, N, Y     NaN     NaN  \n",
       "91  TEXT     1.0  1=Y, 0 = N  null, N, Y     NaN     NaN  \n",
       "92  TEXT     1.0  1=Y, 0 = N  null, N, Y     NaN     NaN  \n",
       "93  TEXT     1.0  1=Y, 0 = N  null, N, Y     NaN     NaN  \n",
       "94  TEXT     1.0  1=Y, 0 = N  null, Y, N     NaN     NaN  \n",
       "95  TEXT     1.0  1=Y, 0 = N  null, N, Y     NaN     NaN  \n",
       "96  TEXT     1.0  1=Y, 0 = N  null, N, Y     NaN     NaN  \n",
       "97  TEXT     1.0  1=Y, 0 = N  null, Y, N     NaN     NaN  \n",
       "98  TEXT     1.0  1=Y, 0 = N  null, N, Y     NaN     NaN  "
      ]
     },
     "execution_count": 241,
     "metadata": {},
     "output_type": "execute_result"
    }
   ],
   "source": [
    "df_crash_dict[90:100]"
   ]
  },
  {
   "cell_type": "code",
   "execution_count": null,
   "id": "597eadb6",
   "metadata": {},
   "outputs": [],
   "source": [
    "# no work zones involved"
   ]
  },
  {
   "cell_type": "code",
   "execution_count": null,
   "id": "d3694350",
   "metadata": {},
   "outputs": [],
   "source": []
  },
  {
   "cell_type": "code",
   "execution_count": null,
   "id": "fcda3a99",
   "metadata": {},
   "outputs": [],
   "source": []
  },
  {
   "cell_type": "code",
   "execution_count": null,
   "id": "1ebf1249",
   "metadata": {},
   "outputs": [],
   "source": []
  },
  {
   "cell_type": "code",
   "execution_count": null,
   "id": "07cbf296",
   "metadata": {},
   "outputs": [],
   "source": []
  },
  {
   "cell_type": "code",
   "execution_count": null,
   "id": "3c18c8c5",
   "metadata": {},
   "outputs": [],
   "source": []
  },
  {
   "cell_type": "code",
   "execution_count": null,
   "id": "190c800b",
   "metadata": {},
   "outputs": [],
   "source": []
  },
  {
   "cell_type": "code",
   "execution_count": null,
   "id": "4edea327",
   "metadata": {},
   "outputs": [],
   "source": []
  },
  {
   "cell_type": "code",
   "execution_count": null,
   "id": "d283fb95",
   "metadata": {},
   "outputs": [],
   "source": []
  },
  {
   "cell_type": "code",
   "execution_count": null,
   "id": "083d4520",
   "metadata": {},
   "outputs": [],
   "source": []
  },
  {
   "cell_type": "code",
   "execution_count": null,
   "id": "3c2ed122",
   "metadata": {},
   "outputs": [],
   "source": []
  },
  {
   "cell_type": "code",
   "execution_count": null,
   "id": "72935aa3",
   "metadata": {},
   "outputs": [],
   "source": []
  },
  {
   "cell_type": "code",
   "execution_count": null,
   "id": "bc6ebc47",
   "metadata": {},
   "outputs": [],
   "source": []
  },
  {
   "cell_type": "code",
   "execution_count": 217,
   "id": "458b1ee8",
   "metadata": {},
   "outputs": [
    {
     "data": {
      "text/plain": [
       "99"
      ]
     },
     "execution_count": 217,
     "metadata": {},
     "output_type": "execute_result"
    }
   ],
   "source": [
    "len(df_crash_dict.description)"
   ]
  },
  {
   "cell_type": "code",
   "execution_count": 227,
   "id": "646ebadd",
   "metadata": {},
   "outputs": [
    {
     "data": {
      "text/plain": [
       "'Was this midblock crash related to a nearby intersection?'"
      ]
     },
     "execution_count": 227,
     "metadata": {},
     "output_type": "execute_result"
    }
   ],
   "source": [
    "'Was this midblock crash related to a nearby intersection?'"
   ]
  },
  {
   "cell_type": "code",
   "execution_count": 226,
   "id": "67e73f6d",
   "metadata": {},
   "outputs": [
    {
     "data": {
      "text/plain": [
       "'Time police arrived at the scene'"
      ]
     },
     "metadata": {},
     "output_type": "display_data"
    },
    {
     "data": {
      "text/plain": [
       "'Total amount of Automobiles Involved'"
      ]
     },
     "metadata": {},
     "output_type": "display_data"
    },
    {
     "data": {
      "text/plain": [
       "'Total Deaths of belted occupants'"
      ]
     },
     "metadata": {},
     "output_type": "display_data"
    },
    {
     "data": {
      "text/plain": [
       "'Total Suspected Serious Injuries of belted occupants'"
      ]
     },
     "metadata": {},
     "output_type": "display_data"
    },
    {
     "data": {
      "text/plain": [
       "'Total amount of Bicycles involved'"
      ]
     },
     "metadata": {},
     "output_type": "display_data"
    },
    {
     "data": {
      "text/plain": [
       "'Total amount of Bicyclist Fatalities'"
      ]
     },
     "metadata": {},
     "output_type": "display_data"
    },
    {
     "data": {
      "text/plain": [
       "'\\nTotal amount of Bicyclist Suspected Serious Injuries'"
      ]
     },
     "metadata": {},
     "output_type": "display_data"
    },
    {
     "data": {
      "text/plain": [
       "'Total amount of Buses involved'"
      ]
     },
     "metadata": {},
     "output_type": "display_data"
    },
    {
     "data": {
      "text/plain": [
       "'killed in the crash\\nTotal child passengers under the age of 8'"
      ]
     },
     "metadata": {},
     "output_type": "display_data"
    },
    {
     "data": {
      "text/plain": [
       "'with suspected serious injuries\\nTotal child passengers under the age of 8'"
      ]
     },
     "metadata": {},
     "output_type": "display_data"
    },
    {
     "data": {
      "text/plain": [
       "'Collision category that defines the crash'"
      ]
     },
     "metadata": {},
     "output_type": "display_data"
    },
    {
     "data": {
      "text/plain": [
       "'Total Commercial vehicles involved'"
      ]
     },
     "metadata": {},
     "output_type": "display_data"
    },
    {
     "data": {
      "text/plain": [
       "'Speed limit for the Construction Zone'"
      ]
     },
     "metadata": {},
     "output_type": "display_data"
    },
    {
     "data": {
      "text/plain": [
       "'County Code Number where crash occurred'"
      ]
     },
     "metadata": {},
     "output_type": "display_data"
    },
    {
     "data": {
      "text/plain": [
       "'Month when the crash occurred'"
      ]
     },
     "metadata": {},
     "output_type": "display_data"
    },
    {
     "data": {
      "text/plain": [
       "'Year when the crash occurred'"
      ]
     },
     "metadata": {},
     "output_type": "display_data"
    },
    {
     "data": {
      "text/plain": [
       "'Crash Record Number'"
      ]
     },
     "metadata": {},
     "output_type": "display_data"
    },
    {
     "data": {
      "text/plain": [
       "'Day of the Week code when crash occurred'"
      ]
     },
     "metadata": {},
     "output_type": "display_data"
    },
    {
     "data": {
      "text/plain": [
       "'Decimal format of the Latitude'"
      ]
     },
     "metadata": {},
     "output_type": "display_data"
    },
    {
     "data": {
      "text/plain": [
       "'Decimal format of the Longitude'"
      ]
     },
     "metadata": {},
     "output_type": "display_data"
    },
    {
     "data": {
      "text/plain": [
       "'Time police were dispatched to the scene'"
      ]
     },
     "metadata": {},
     "output_type": "display_data"
    },
    {
     "data": {
      "text/plain": [
       "'\\nDistrict Number where crash occurred (Based on County)'"
      ]
     },
     "metadata": {},
     "output_type": "display_data"
    },
    {
     "data": {
      "text/plain": [
       "'Total amount of 16-year-old drivers'"
      ]
     },
     "metadata": {},
     "output_type": "display_data"
    },
    {
     "data": {
      "text/plain": [
       "'Total amount of 17-year-old drivers'"
      ]
     },
     "metadata": {},
     "output_type": "display_data"
    },
    {
     "data": {
      "text/plain": [
       "'Total amount of 18-year-old drivers'"
      ]
     },
     "metadata": {},
     "output_type": "display_data"
    },
    {
     "data": {
      "text/plain": [
       "'Total amount of 19-year old drivers'"
      ]
     },
     "metadata": {},
     "output_type": "display_data"
    },
    {
     "data": {
      "text/plain": [
       "'Total amount of 20-year-old drivers'"
      ]
     },
     "metadata": {},
     "output_type": "display_data"
    },
    {
     "data": {
      "text/plain": [
       "'Total amount of 50 to 64-year-old drivers'"
      ]
     },
     "metadata": {},
     "output_type": "display_data"
    },
    {
     "data": {
      "text/plain": [
       "'Total amount of 65 to 74-year-old drivers'"
      ]
     },
     "metadata": {},
     "output_type": "display_data"
    },
    {
     "data": {
      "text/plain": [
       "'Total amount of drivers ages 75 and up'"
      ]
     },
     "metadata": {},
     "output_type": "display_data"
    },
    {
     "data": {
      "text/plain": [
       "'Estimated hours roadway was closed'"
      ]
     },
     "metadata": {},
     "output_type": "display_data"
    },
    {
     "data": {
      "text/plain": [
       "'Total amount of fatalities involved'"
      ]
     },
     "metadata": {},
     "output_type": "display_data"
    },
    {
     "data": {
      "text/plain": [
       "'Total amount of Heavy Trucks involved'"
      ]
     },
     "metadata": {},
     "output_type": "display_data"
    },
    {
     "data": {
      "text/plain": [
       "'involved in the Crash\\nTotal Number of Horse and Buggy Units'"
      ]
     },
     "metadata": {},
     "output_type": "display_data"
    },
    {
     "data": {
      "text/plain": [
       "'The hour of Day when the crash occurred'"
      ]
     },
     "metadata": {},
     "output_type": "display_data"
    },
    {
     "data": {
      "text/plain": [
       "'Code that defines lighting at crash scene'"
      ]
     },
     "metadata": {},
     "output_type": "display_data"
    },
    {
     "data": {
      "text/plain": [
       "'Total count of all injuries sustained'"
      ]
     },
     "metadata": {},
     "output_type": "display_data"
    },
    {
     "data": {
      "text/plain": [
       "'Code that defines the Intersection Type'"
      ]
     },
     "metadata": {},
     "output_type": "display_data"
    },
    {
     "data": {
      "text/plain": [
       "'Was this midblock crash related to a nearby intersection?'"
      ]
     },
     "metadata": {},
     "output_type": "display_data"
    },
    {
     "data": {
      "text/plain": [
       "'Was there a lane closure? (Y/N)'"
      ]
     },
     "metadata": {},
     "output_type": "display_data"
    },
    {
     "data": {
      "text/plain": [
       "'GPS Latitude determined by PennDOT'"
      ]
     },
     "metadata": {},
     "output_type": "display_data"
    },
    {
     "data": {
      "text/plain": [
       "'Direction of traffic in closed lane (s)'"
      ]
     },
     "metadata": {},
     "output_type": "display_data"
    },
    {
     "data": {
      "text/plain": [
       "'Code that defines the crash location'"
      ]
     },
     "metadata": {},
     "output_type": "display_data"
    },
    {
     "data": {
      "text/plain": [
       "'GPS Longitude determined by PennDOT (in negative degrees)'"
      ]
     },
     "metadata": {},
     "output_type": "display_data"
    },
    {
     "data": {
      "text/plain": [
       "'Injury severity level of the crash'"
      ]
     },
     "metadata": {},
     "output_type": "display_data"
    },
    {
     "data": {
      "text/plain": [
       "'Total amount of Motorcyclist fatalities'"
      ]
     },
     "metadata": {},
     "output_type": "display_data"
    },
    {
     "data": {
      "text/plain": [
       "'Total amount of Motorcyclist Suspected Serious Injuries'"
      ]
     },
     "metadata": {},
     "output_type": "display_data"
    },
    {
     "data": {
      "text/plain": [
       "'Total amount of Motorcycles Involved'"
      ]
     },
     "metadata": {},
     "output_type": "display_data"
    },
    {
     "data": {
      "text/plain": [
       "'Municipality Code'"
      ]
     },
     "metadata": {},
     "output_type": "display_data"
    },
    {
     "data": {
      "text/plain": [
       "'Total number of Non-motorists involved in the crash'"
      ]
     },
     "metadata": {},
     "output_type": "display_data"
    },
    {
     "data": {
      "text/plain": [
       "'Total number of Non-motorists killed in the crash'"
      ]
     },
     "metadata": {},
     "output_type": "display_data"
    },
    {
     "data": {
      "text/plain": [
       "'Total number of Non-motorists with suspected serious injures in the crash'"
      ]
     },
     "metadata": {},
     "output_type": "display_data"
    },
    {
     "data": {
      "text/plain": [
       "'PENNDOT highway maintenance notified?'"
      ]
     },
     "metadata": {},
     "output_type": "display_data"
    },
    {
     "data": {
      "text/plain": [
       "'Total Pedestrians involved'"
      ]
     },
     "metadata": {},
     "output_type": "display_data"
    },
    {
     "data": {
      "text/plain": [
       "'Total Pedestrian fatalities'"
      ]
     },
     "metadata": {},
     "output_type": "display_data"
    },
    {
     "data": {
      "text/plain": [
       "'Total Pedestrians with an Injury Severity of “Suspected Serious Injury”'"
      ]
     },
     "metadata": {},
     "output_type": "display_data"
    },
    {
     "data": {
      "text/plain": [
       "'Total People involved'"
      ]
     },
     "metadata": {},
     "output_type": "display_data"
    },
    {
     "data": {
      "text/plain": [
       "'Code of the Reporting Police Agency'"
      ]
     },
     "metadata": {},
     "output_type": "display_data"
    },
    {
     "data": {
      "text/plain": [
       "'Total number of People with an injury severity of “Possible Injury”'"
      ]
     },
     "metadata": {},
     "output_type": "display_data"
    },
    {
     "data": {
      "text/plain": [
       "'Code for the Roadway surface type –only for fatal crashes'"
      ]
     },
     "metadata": {},
     "output_type": "display_data"
    },
    {
     "data": {
      "text/plain": [
       "'Code for the crash’s relativity to the road'"
      ]
     },
     "metadata": {},
     "output_type": "display_data"
    },
    {
     "data": {
      "text/plain": [
       "'Roadway Surface Condition Code'"
      ]
     },
     "metadata": {},
     "output_type": "display_data"
    },
    {
     "data": {
      "text/plain": [
       "'Time the roadway was opened to traffic'"
      ]
     },
     "metadata": {},
     "output_type": "display_data"
    },
    {
     "data": {
      "text/plain": [
       "'Did the crash involve a School Bus? (Y/N)'"
      ]
     },
     "metadata": {},
     "output_type": "display_data"
    },
    {
     "data": {
      "text/plain": [
       "'Did the crash occur in a School Zone? (Y/N)'"
      ]
     },
     "metadata": {},
     "output_type": "display_data"
    },
    {
     "data": {
      "text/plain": [
       "'Was this crash caused at least in part to a prior crash?'"
      ]
     },
     "metadata": {},
     "output_type": "display_data"
    },
    {
     "data": {
      "text/plain": [
       "'Total amount of Small Trucks involved'"
      ]
     },
     "metadata": {},
     "output_type": "display_data"
    },
    {
     "data": {
      "text/plain": [
       "'\\nCode that defines any special jurisdiction – only for fatal crashes'"
      ]
     },
     "metadata": {},
     "output_type": "display_data"
    },
    {
     "data": {
      "text/plain": [
       "'Total number of People with an injury severity of Suspected Minor Injury'"
      ]
     },
     "metadata": {},
     "output_type": "display_data"
    },
    {
     "data": {
      "text/plain": [
       "'Total number of People with an injury'"
      ]
     },
     "metadata": {},
     "output_type": "display_data"
    },
    {
     "data": {
      "text/plain": [
       "'Total count of sport utility vehicles involved severity of Suspected Serious Injury'"
      ]
     },
     "metadata": {},
     "output_type": "display_data"
    },
    {
     "data": {
      "text/plain": [
       "'Code for Traffic Control Device state'"
      ]
     },
     "metadata": {},
     "output_type": "display_data"
    },
    {
     "data": {
      "text/plain": [
       "'Code that defines the Traffic Control Device'"
      ]
     },
     "metadata": {},
     "output_type": "display_data"
    },
    {
     "data": {
      "text/plain": [
       "'Was Traffic Detoured? (Y/N)'"
      ]
     },
     "metadata": {},
     "output_type": "display_data"
    },
    {
     "data": {
      "text/plain": [
       "'The Time of Day When the Crash Occurred'"
      ]
     },
     "metadata": {},
     "output_type": "display_data"
    },
    {
     "data": {
      "text/plain": [
       "'injuries.\\ninvolved in this crash. Does not include fatal\\nCount of total injuries sustained by persons'"
      ]
     },
     "metadata": {},
     "output_type": "display_data"
    },
    {
     "data": {
      "text/plain": [
       "'Total count of all Vehicles and Pedestrians'"
      ]
     },
     "metadata": {},
     "output_type": "display_data"
    },
    {
     "data": {
      "text/plain": [
       "'No. of people killed not wearing a seatbelt'"
      ]
     },
     "metadata": {},
     "output_type": "display_data"
    },
    {
     "data": {
      "text/plain": [
       "'Serious Injuries\\nTotal # of unbelted sustaining Suspected'"
      ]
     },
     "metadata": {},
     "output_type": "display_data"
    },
    {
     "data": {
      "text/plain": [
       "'Total count of all unbelted occupants'"
      ]
     },
     "metadata": {},
     "output_type": "display_data"
    },
    {
     "data": {
      "text/plain": [
       "'No. of injuries with unknown severity'"
      ]
     },
     "metadata": {},
     "output_type": "display_data"
    },
    {
     "data": {
      "text/plain": [
       "'No. of people that are unknown if injured'"
      ]
     },
     "metadata": {},
     "output_type": "display_data"
    },
    {
     "data": {
      "text/plain": [
       "'Code to classify crash as Urban or Rural'"
      ]
     },
     "metadata": {},
     "output_type": "display_data"
    },
    {
     "data": {
      "text/plain": [
       "'Total amount of vans involved'"
      ]
     },
     "metadata": {},
     "output_type": "display_data"
    },
    {
     "data": {
      "text/plain": [
       "'Total number of all motor vehicles involved in the crash'"
      ]
     },
     "metadata": {},
     "output_type": "display_data"
    },
    {
     "data": {
      "text/plain": [
       "'Code for the first weather condition at time of crash'"
      ]
     },
     "metadata": {},
     "output_type": "display_data"
    },
    {
     "data": {
      "text/plain": [
       "'Code for the second weather condition at time of crash'"
      ]
     },
     "metadata": {},
     "output_type": "display_data"
    },
    {
     "data": {
      "text/plain": [
       "'Did the crash occur in a work zone'"
      ]
     },
     "metadata": {},
     "output_type": "display_data"
    },
    {
     "data": {
      "text/plain": [
       "'The Work Zone Location Code'"
      ]
     },
     "metadata": {},
     "output_type": "display_data"
    },
    {
     "data": {
      "text/plain": [
       "'Code to define the type of Work Zone'"
      ]
     },
     "metadata": {},
     "output_type": "display_data"
    },
    {
     "data": {
      "text/plain": [
       "'Were construction personnel present?'"
      ]
     },
     "metadata": {},
     "output_type": "display_data"
    },
    {
     "data": {
      "text/plain": [
       "'Was traffic rerouted due to work zone?'"
      ]
     },
     "metadata": {},
     "output_type": "display_data"
    },
    {
     "data": {
      "text/plain": [
       "'Did Work zone have a flagman?'"
      ]
     },
     "metadata": {},
     "output_type": "display_data"
    },
    {
     "data": {
      "text/plain": [
       "'Did Work zone have a patrolman?'"
      ]
     },
     "metadata": {},
     "output_type": "display_data"
    },
    {
     "data": {
      "text/plain": [
       "'Did Work zone have a lane closure?'"
      ]
     },
     "metadata": {},
     "output_type": "display_data"
    },
    {
     "data": {
      "text/plain": [
       "'Was there moving work in the zone?'"
      ]
     },
     "metadata": {},
     "output_type": "display_data"
    },
    {
     "data": {
      "text/plain": [
       "'Was this a special type of work zone?'"
      ]
     },
     "metadata": {},
     "output_type": "display_data"
    },
    {
     "data": {
      "text/plain": [
       "'Was a median/shoulder in the zone?'"
      ]
     },
     "metadata": {},
     "output_type": "display_data"
    },
    {
     "data": {
      "text/plain": [
       "'Were any Work Zone workers injured or killed as a result of this crash?'"
      ]
     },
     "metadata": {},
     "output_type": "display_data"
    }
   ],
   "source": [
    "for i in range(len(df_crash_dict.description.to_list())):\n",
    "    display(df_crash_dict.description.to_list()[i])"
   ]
  },
  {
   "cell_type": "code",
   "execution_count": null,
   "id": "7085a29c",
   "metadata": {},
   "outputs": [],
   "source": []
  }
 ],
 "metadata": {
  "kernelspec": {
   "display_name": "Python 3 (ipykernel)",
   "language": "python",
   "name": "python3"
  },
  "language_info": {
   "codemirror_mode": {
    "name": "ipython",
    "version": 3
   },
   "file_extension": ".py",
   "mimetype": "text/x-python",
   "name": "python",
   "nbconvert_exporter": "python",
   "pygments_lexer": "ipython3",
   "version": "3.9.12"
  }
 },
 "nbformat": 4,
 "nbformat_minor": 5
}
